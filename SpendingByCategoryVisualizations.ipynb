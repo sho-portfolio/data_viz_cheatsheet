{
 "cells": [
  {
   "cell_type": "code",
   "execution_count": 2,
   "metadata": {},
   "outputs": [],
   "source": [
    "import pandas as pd\n",
    "import plotly.express as px"
   ]
  },
  {
   "cell_type": "code",
   "execution_count": 46,
   "metadata": {},
   "outputs": [],
   "source": [
    "df = pd.read_csv('spendingdata_grouped.csv')"
   ]
  },
  {
   "cell_type": "code",
   "execution_count": 48,
   "metadata": {},
   "outputs": [
    {
     "data": {
      "application/vnd.plotly.v1+json": {
       "config": {
        "plotlyServerURL": "https://plot.ly"
       },
       "data": [
        {
         "hovertemplate": "MONTH=%{x}<br>CAT=%{y}<br>Total=%{marker.color}<extra></extra>",
         "legendgroup": "",
         "marker": {
          "color": [
           627.73,
           70.89,
           661.35,
           87.15,
           60,
           20.9,
           1903.54,
           62.24,
           391.65,
           86.01,
           2578,
           4118,
           218.16,
           102,
           6.25,
           82.31,
           165.08,
           1403.72,
           607.18,
           55.92,
           729.85,
           46.34,
           60,
           30.9,
           1063.43,
           190.2,
           2959.22,
           720,
           4118,
           297.06,
           1278.74,
           102,
           184.46,
           1356.74,
           671.23,
           73.89,
           1154.39,
           43.04,
           50.9,
           2506.85,
           124.48,
           4206,
           4118,
           500.89,
           19.49,
           102,
           4.54,
           64.34,
           166.67,
           418.48,
           68.9,
           5,
           1373.27,
           62.24,
           774.91,
           59.89,
           1510,
           4118,
           523.88,
           1452.87,
           112.2,
           15.99,
           189.31,
           769.86,
           43.95,
           719.86,
           1387.16,
           62.32,
           2520.93,
           1250,
           4118,
           427,
           19.49,
           112.2,
           26.87,
           76.6,
           183.99,
           390.49,
           39.96,
           410.11,
           1007.24,
           76.08,
           247.03,
           1000,
           4118,
           439.85,
           112.2,
           23.99,
           208.05,
           429.77
          ],
          "coloraxis": "coloraxis",
          "size": [
           627.73,
           70.89,
           661.35,
           87.15,
           60,
           20.9,
           1903.54,
           62.24,
           391.65,
           86.01,
           2578,
           4118,
           218.16,
           102,
           6.25,
           82.31,
           165.08,
           1403.72,
           607.18,
           55.92,
           729.85,
           46.34,
           60,
           30.9,
           1063.43,
           190.2,
           2959.22,
           720,
           4118,
           297.06,
           1278.74,
           102,
           184.46,
           1356.74,
           671.23,
           73.89,
           1154.39,
           43.04,
           50.9,
           2506.85,
           124.48,
           4206,
           4118,
           500.89,
           19.49,
           102,
           4.54,
           64.34,
           166.67,
           418.48,
           68.9,
           5,
           1373.27,
           62.24,
           774.91,
           59.89,
           1510,
           4118,
           523.88,
           1452.87,
           112.2,
           15.99,
           189.31,
           769.86,
           43.95,
           719.86,
           1387.16,
           62.32,
           2520.93,
           1250,
           4118,
           427,
           19.49,
           112.2,
           26.87,
           76.6,
           183.99,
           390.49,
           39.96,
           410.11,
           1007.24,
           76.08,
           247.03,
           1000,
           4118,
           439.85,
           112.2,
           23.99,
           208.05,
           429.77
          ],
          "sizemode": "area",
          "sizeref": 10.515,
          "symbol": "circle"
         },
         "mode": "markers",
         "name": "",
         "orientation": "h",
         "showlegend": false,
         "type": "scatter",
         "x": [
          1,
          1,
          1,
          1,
          1,
          1,
          1,
          1,
          1,
          1,
          1,
          1,
          1,
          1,
          1,
          1,
          1,
          1,
          2,
          2,
          2,
          2,
          2,
          2,
          2,
          2,
          2,
          2,
          2,
          2,
          2,
          2,
          2,
          2,
          3,
          3,
          3,
          3,
          3,
          3,
          3,
          3,
          3,
          3,
          3,
          3,
          3,
          3,
          3,
          4,
          4,
          4,
          4,
          4,
          4,
          4,
          4,
          4,
          4,
          4,
          4,
          4,
          4,
          5,
          5,
          5,
          5,
          5,
          5,
          5,
          5,
          5,
          5,
          5,
          5,
          5,
          5,
          6,
          6,
          6,
          6,
          6,
          6,
          6,
          6,
          6,
          6,
          6,
          6,
          6
         ],
         "xaxis": "x",
         "y": [
          "AMAZON",
          "AMAZON-VIDEO",
          "BEAN",
          "CAB",
          "CLEANER",
          "DRYCLEAN",
          "GROC/HOUSEHOLD",
          "INSURANCE",
          "MEDICAL",
          "MISC",
          "NANNY",
          "RENT",
          "SEAMLESS",
          "STORAGE",
          "SUBSCRIPTIONS",
          "TBD",
          "UTILS",
          "VACA",
          "AMAZON",
          "AMAZON-VIDEO",
          "BEAN",
          "CAB",
          "CLEANER",
          "DRYCLEAN",
          "GROC/HOUSEHOLD",
          "MEDICAL",
          "MISC",
          "NANNY",
          "RENT",
          "SEAMLESS",
          "SHO",
          "STORAGE",
          "UTILS",
          "VACA",
          "AMAZON",
          "AMAZON-VIDEO",
          "BEAN",
          "CAB",
          "DRYCLEAN",
          "GROC/HOUSEHOLD",
          "INSURANCE",
          "NANNY",
          "RENT",
          "SEAMLESS",
          "SHO",
          "STORAGE",
          "SUBSCRIPTIONS",
          "TBD",
          "UTILS",
          "AMAZON",
          "AMAZON-VIDEO",
          "BEAN",
          "GROC/HOUSEHOLD",
          "INSURANCE",
          "MEDICAL",
          "MISC",
          "NANNY",
          "RENT",
          "SEAMLESS",
          "SHO",
          "STORAGE",
          "SUBSCRIPTIONS",
          "UTILS",
          "AMAZON",
          "AMAZON-VIDEO",
          "BEAN",
          "GROC/HOUSEHOLD",
          "INSURANCE",
          "MISC",
          "NANNY",
          "RENT",
          "SEAMLESS",
          "SHO",
          "STORAGE",
          "SUBSCRIPTIONS",
          "TBD",
          "UTILS",
          "AMAZON",
          "AMAZON-VIDEO",
          "BEAN",
          "GROC/HOUSEHOLD",
          "MEDICAL",
          "MISC",
          "NANNY",
          "RENT",
          "SEAMLESS",
          "STORAGE",
          "SUBSCRIPTIONS",
          "UTILS",
          "VACA"
         ],
         "yaxis": "y"
        }
       ],
       "layout": {
        "coloraxis": {
         "colorbar": {
          "title": {
           "text": "Total"
          }
         },
         "colorscale": [
          [
           0,
           "#0d0887"
          ],
          [
           0.1111111111111111,
           "#46039f"
          ],
          [
           0.2222222222222222,
           "#7201a8"
          ],
          [
           0.3333333333333333,
           "#9c179e"
          ],
          [
           0.4444444444444444,
           "#bd3786"
          ],
          [
           0.5555555555555556,
           "#d8576b"
          ],
          [
           0.6666666666666666,
           "#ed7953"
          ],
          [
           0.7777777777777778,
           "#fb9f3a"
          ],
          [
           0.8888888888888888,
           "#fdca26"
          ],
          [
           1,
           "#f0f921"
          ]
         ]
        },
        "legend": {
         "itemsizing": "constant",
         "tracegroupgap": 0
        },
        "template": {
         "data": {
          "bar": [
           {
            "error_x": {
             "color": "#2a3f5f"
            },
            "error_y": {
             "color": "#2a3f5f"
            },
            "marker": {
             "line": {
              "color": "#E5ECF6",
              "width": 0.5
             }
            },
            "type": "bar"
           }
          ],
          "barpolar": [
           {
            "marker": {
             "line": {
              "color": "#E5ECF6",
              "width": 0.5
             }
            },
            "type": "barpolar"
           }
          ],
          "carpet": [
           {
            "aaxis": {
             "endlinecolor": "#2a3f5f",
             "gridcolor": "white",
             "linecolor": "white",
             "minorgridcolor": "white",
             "startlinecolor": "#2a3f5f"
            },
            "baxis": {
             "endlinecolor": "#2a3f5f",
             "gridcolor": "white",
             "linecolor": "white",
             "minorgridcolor": "white",
             "startlinecolor": "#2a3f5f"
            },
            "type": "carpet"
           }
          ],
          "choropleth": [
           {
            "colorbar": {
             "outlinewidth": 0,
             "ticks": ""
            },
            "type": "choropleth"
           }
          ],
          "contour": [
           {
            "colorbar": {
             "outlinewidth": 0,
             "ticks": ""
            },
            "colorscale": [
             [
              0,
              "#0d0887"
             ],
             [
              0.1111111111111111,
              "#46039f"
             ],
             [
              0.2222222222222222,
              "#7201a8"
             ],
             [
              0.3333333333333333,
              "#9c179e"
             ],
             [
              0.4444444444444444,
              "#bd3786"
             ],
             [
              0.5555555555555556,
              "#d8576b"
             ],
             [
              0.6666666666666666,
              "#ed7953"
             ],
             [
              0.7777777777777778,
              "#fb9f3a"
             ],
             [
              0.8888888888888888,
              "#fdca26"
             ],
             [
              1,
              "#f0f921"
             ]
            ],
            "type": "contour"
           }
          ],
          "contourcarpet": [
           {
            "colorbar": {
             "outlinewidth": 0,
             "ticks": ""
            },
            "type": "contourcarpet"
           }
          ],
          "heatmap": [
           {
            "colorbar": {
             "outlinewidth": 0,
             "ticks": ""
            },
            "colorscale": [
             [
              0,
              "#0d0887"
             ],
             [
              0.1111111111111111,
              "#46039f"
             ],
             [
              0.2222222222222222,
              "#7201a8"
             ],
             [
              0.3333333333333333,
              "#9c179e"
             ],
             [
              0.4444444444444444,
              "#bd3786"
             ],
             [
              0.5555555555555556,
              "#d8576b"
             ],
             [
              0.6666666666666666,
              "#ed7953"
             ],
             [
              0.7777777777777778,
              "#fb9f3a"
             ],
             [
              0.8888888888888888,
              "#fdca26"
             ],
             [
              1,
              "#f0f921"
             ]
            ],
            "type": "heatmap"
           }
          ],
          "heatmapgl": [
           {
            "colorbar": {
             "outlinewidth": 0,
             "ticks": ""
            },
            "colorscale": [
             [
              0,
              "#0d0887"
             ],
             [
              0.1111111111111111,
              "#46039f"
             ],
             [
              0.2222222222222222,
              "#7201a8"
             ],
             [
              0.3333333333333333,
              "#9c179e"
             ],
             [
              0.4444444444444444,
              "#bd3786"
             ],
             [
              0.5555555555555556,
              "#d8576b"
             ],
             [
              0.6666666666666666,
              "#ed7953"
             ],
             [
              0.7777777777777778,
              "#fb9f3a"
             ],
             [
              0.8888888888888888,
              "#fdca26"
             ],
             [
              1,
              "#f0f921"
             ]
            ],
            "type": "heatmapgl"
           }
          ],
          "histogram": [
           {
            "marker": {
             "colorbar": {
              "outlinewidth": 0,
              "ticks": ""
             }
            },
            "type": "histogram"
           }
          ],
          "histogram2d": [
           {
            "colorbar": {
             "outlinewidth": 0,
             "ticks": ""
            },
            "colorscale": [
             [
              0,
              "#0d0887"
             ],
             [
              0.1111111111111111,
              "#46039f"
             ],
             [
              0.2222222222222222,
              "#7201a8"
             ],
             [
              0.3333333333333333,
              "#9c179e"
             ],
             [
              0.4444444444444444,
              "#bd3786"
             ],
             [
              0.5555555555555556,
              "#d8576b"
             ],
             [
              0.6666666666666666,
              "#ed7953"
             ],
             [
              0.7777777777777778,
              "#fb9f3a"
             ],
             [
              0.8888888888888888,
              "#fdca26"
             ],
             [
              1,
              "#f0f921"
             ]
            ],
            "type": "histogram2d"
           }
          ],
          "histogram2dcontour": [
           {
            "colorbar": {
             "outlinewidth": 0,
             "ticks": ""
            },
            "colorscale": [
             [
              0,
              "#0d0887"
             ],
             [
              0.1111111111111111,
              "#46039f"
             ],
             [
              0.2222222222222222,
              "#7201a8"
             ],
             [
              0.3333333333333333,
              "#9c179e"
             ],
             [
              0.4444444444444444,
              "#bd3786"
             ],
             [
              0.5555555555555556,
              "#d8576b"
             ],
             [
              0.6666666666666666,
              "#ed7953"
             ],
             [
              0.7777777777777778,
              "#fb9f3a"
             ],
             [
              0.8888888888888888,
              "#fdca26"
             ],
             [
              1,
              "#f0f921"
             ]
            ],
            "type": "histogram2dcontour"
           }
          ],
          "mesh3d": [
           {
            "colorbar": {
             "outlinewidth": 0,
             "ticks": ""
            },
            "type": "mesh3d"
           }
          ],
          "parcoords": [
           {
            "line": {
             "colorbar": {
              "outlinewidth": 0,
              "ticks": ""
             }
            },
            "type": "parcoords"
           }
          ],
          "pie": [
           {
            "automargin": true,
            "type": "pie"
           }
          ],
          "scatter": [
           {
            "marker": {
             "colorbar": {
              "outlinewidth": 0,
              "ticks": ""
             }
            },
            "type": "scatter"
           }
          ],
          "scatter3d": [
           {
            "line": {
             "colorbar": {
              "outlinewidth": 0,
              "ticks": ""
             }
            },
            "marker": {
             "colorbar": {
              "outlinewidth": 0,
              "ticks": ""
             }
            },
            "type": "scatter3d"
           }
          ],
          "scattercarpet": [
           {
            "marker": {
             "colorbar": {
              "outlinewidth": 0,
              "ticks": ""
             }
            },
            "type": "scattercarpet"
           }
          ],
          "scattergeo": [
           {
            "marker": {
             "colorbar": {
              "outlinewidth": 0,
              "ticks": ""
             }
            },
            "type": "scattergeo"
           }
          ],
          "scattergl": [
           {
            "marker": {
             "colorbar": {
              "outlinewidth": 0,
              "ticks": ""
             }
            },
            "type": "scattergl"
           }
          ],
          "scattermapbox": [
           {
            "marker": {
             "colorbar": {
              "outlinewidth": 0,
              "ticks": ""
             }
            },
            "type": "scattermapbox"
           }
          ],
          "scatterpolar": [
           {
            "marker": {
             "colorbar": {
              "outlinewidth": 0,
              "ticks": ""
             }
            },
            "type": "scatterpolar"
           }
          ],
          "scatterpolargl": [
           {
            "marker": {
             "colorbar": {
              "outlinewidth": 0,
              "ticks": ""
             }
            },
            "type": "scatterpolargl"
           }
          ],
          "scatterternary": [
           {
            "marker": {
             "colorbar": {
              "outlinewidth": 0,
              "ticks": ""
             }
            },
            "type": "scatterternary"
           }
          ],
          "surface": [
           {
            "colorbar": {
             "outlinewidth": 0,
             "ticks": ""
            },
            "colorscale": [
             [
              0,
              "#0d0887"
             ],
             [
              0.1111111111111111,
              "#46039f"
             ],
             [
              0.2222222222222222,
              "#7201a8"
             ],
             [
              0.3333333333333333,
              "#9c179e"
             ],
             [
              0.4444444444444444,
              "#bd3786"
             ],
             [
              0.5555555555555556,
              "#d8576b"
             ],
             [
              0.6666666666666666,
              "#ed7953"
             ],
             [
              0.7777777777777778,
              "#fb9f3a"
             ],
             [
              0.8888888888888888,
              "#fdca26"
             ],
             [
              1,
              "#f0f921"
             ]
            ],
            "type": "surface"
           }
          ],
          "table": [
           {
            "cells": {
             "fill": {
              "color": "#EBF0F8"
             },
             "line": {
              "color": "white"
             }
            },
            "header": {
             "fill": {
              "color": "#C8D4E3"
             },
             "line": {
              "color": "white"
             }
            },
            "type": "table"
           }
          ]
         },
         "layout": {
          "annotationdefaults": {
           "arrowcolor": "#2a3f5f",
           "arrowhead": 0,
           "arrowwidth": 1
          },
          "coloraxis": {
           "colorbar": {
            "outlinewidth": 0,
            "ticks": ""
           }
          },
          "colorscale": {
           "diverging": [
            [
             0,
             "#8e0152"
            ],
            [
             0.1,
             "#c51b7d"
            ],
            [
             0.2,
             "#de77ae"
            ],
            [
             0.3,
             "#f1b6da"
            ],
            [
             0.4,
             "#fde0ef"
            ],
            [
             0.5,
             "#f7f7f7"
            ],
            [
             0.6,
             "#e6f5d0"
            ],
            [
             0.7,
             "#b8e186"
            ],
            [
             0.8,
             "#7fbc41"
            ],
            [
             0.9,
             "#4d9221"
            ],
            [
             1,
             "#276419"
            ]
           ],
           "sequential": [
            [
             0,
             "#0d0887"
            ],
            [
             0.1111111111111111,
             "#46039f"
            ],
            [
             0.2222222222222222,
             "#7201a8"
            ],
            [
             0.3333333333333333,
             "#9c179e"
            ],
            [
             0.4444444444444444,
             "#bd3786"
            ],
            [
             0.5555555555555556,
             "#d8576b"
            ],
            [
             0.6666666666666666,
             "#ed7953"
            ],
            [
             0.7777777777777778,
             "#fb9f3a"
            ],
            [
             0.8888888888888888,
             "#fdca26"
            ],
            [
             1,
             "#f0f921"
            ]
           ],
           "sequentialminus": [
            [
             0,
             "#0d0887"
            ],
            [
             0.1111111111111111,
             "#46039f"
            ],
            [
             0.2222222222222222,
             "#7201a8"
            ],
            [
             0.3333333333333333,
             "#9c179e"
            ],
            [
             0.4444444444444444,
             "#bd3786"
            ],
            [
             0.5555555555555556,
             "#d8576b"
            ],
            [
             0.6666666666666666,
             "#ed7953"
            ],
            [
             0.7777777777777778,
             "#fb9f3a"
            ],
            [
             0.8888888888888888,
             "#fdca26"
            ],
            [
             1,
             "#f0f921"
            ]
           ]
          },
          "colorway": [
           "#636efa",
           "#EF553B",
           "#00cc96",
           "#ab63fa",
           "#FFA15A",
           "#19d3f3",
           "#FF6692",
           "#B6E880",
           "#FF97FF",
           "#FECB52"
          ],
          "font": {
           "color": "#2a3f5f"
          },
          "geo": {
           "bgcolor": "white",
           "lakecolor": "white",
           "landcolor": "#E5ECF6",
           "showlakes": true,
           "showland": true,
           "subunitcolor": "white"
          },
          "hoverlabel": {
           "align": "left"
          },
          "hovermode": "closest",
          "mapbox": {
           "style": "light"
          },
          "paper_bgcolor": "white",
          "plot_bgcolor": "#E5ECF6",
          "polar": {
           "angularaxis": {
            "gridcolor": "white",
            "linecolor": "white",
            "ticks": ""
           },
           "bgcolor": "#E5ECF6",
           "radialaxis": {
            "gridcolor": "white",
            "linecolor": "white",
            "ticks": ""
           }
          },
          "scene": {
           "xaxis": {
            "backgroundcolor": "#E5ECF6",
            "gridcolor": "white",
            "gridwidth": 2,
            "linecolor": "white",
            "showbackground": true,
            "ticks": "",
            "zerolinecolor": "white"
           },
           "yaxis": {
            "backgroundcolor": "#E5ECF6",
            "gridcolor": "white",
            "gridwidth": 2,
            "linecolor": "white",
            "showbackground": true,
            "ticks": "",
            "zerolinecolor": "white"
           },
           "zaxis": {
            "backgroundcolor": "#E5ECF6",
            "gridcolor": "white",
            "gridwidth": 2,
            "linecolor": "white",
            "showbackground": true,
            "ticks": "",
            "zerolinecolor": "white"
           }
          },
          "shapedefaults": {
           "line": {
            "color": "#2a3f5f"
           }
          },
          "ternary": {
           "aaxis": {
            "gridcolor": "white",
            "linecolor": "white",
            "ticks": ""
           },
           "baxis": {
            "gridcolor": "white",
            "linecolor": "white",
            "ticks": ""
           },
           "bgcolor": "#E5ECF6",
           "caxis": {
            "gridcolor": "white",
            "linecolor": "white",
            "ticks": ""
           }
          },
          "title": {
           "x": 0.05
          },
          "xaxis": {
           "automargin": true,
           "gridcolor": "white",
           "linecolor": "white",
           "ticks": "",
           "title": {
            "standoff": 15
           },
           "zerolinecolor": "white",
           "zerolinewidth": 2
          },
          "yaxis": {
           "automargin": true,
           "gridcolor": "white",
           "linecolor": "white",
           "ticks": "",
           "title": {
            "standoff": 15
           },
           "zerolinecolor": "white",
           "zerolinewidth": 2
          }
         }
        },
        "title": {
         "text": "Spending By Month"
        },
        "xaxis": {
         "anchor": "y",
         "domain": [
          0,
          1
         ],
         "title": {
          "text": "MONTH"
         }
        },
        "yaxis": {
         "anchor": "x",
         "domain": [
          0,
          1
         ],
         "title": {
          "text": "CAT"
         }
        }
       }
      },
      "text/html": [
       "<div>\n",
       "        \n",
       "        \n",
       "            <div id=\"43820936-0622-40ca-a706-522a667b4071\" class=\"plotly-graph-div\" style=\"height:525px; width:100%;\"></div>\n",
       "            <script type=\"text/javascript\">\n",
       "                require([\"plotly\"], function(Plotly) {\n",
       "                    window.PLOTLYENV=window.PLOTLYENV || {};\n",
       "                    \n",
       "                if (document.getElementById(\"43820936-0622-40ca-a706-522a667b4071\")) {\n",
       "                    Plotly.newPlot(\n",
       "                        '43820936-0622-40ca-a706-522a667b4071',\n",
       "                        [{\"hovertemplate\": \"MONTH=%{x}<br>CAT=%{y}<br>Total=%{marker.color}<extra></extra>\", \"legendgroup\": \"\", \"marker\": {\"color\": [627.73, 70.89, 661.35, 87.15, 60.0, 20.9, 1903.54, 62.24, 391.65, 86.01, 2578.0, 4118.0, 218.16, 102.0, 6.25, 82.31, 165.08, 1403.72, 607.18, 55.92, 729.85, 46.34, 60.0, 30.9, 1063.43, 190.2, 2959.22, 720.0, 4118.0, 297.06, 1278.74, 102.0, 184.46, 1356.74, 671.23, 73.89, 1154.39, 43.04, 50.9, 2506.85, 124.48, 4206.0, 4118.0, 500.89, 19.49, 102.0, 4.54, 64.34, 166.67, 418.48, 68.9, 5.0, 1373.27, 62.24, 774.91, 59.89, 1510.0, 4118.0, 523.88, 1452.87, 112.2, 15.99, 189.31, 769.86, 43.95, 719.86, 1387.16, 62.32, 2520.93, 1250.0, 4118.0, 427.0, 19.49, 112.2, 26.87, 76.6, 183.99, 390.49, 39.96, 410.11, 1007.24, 76.08, 247.03, 1000.0, 4118.0, 439.85, 112.2, 23.99, 208.05, 429.77], \"coloraxis\": \"coloraxis\", \"size\": [627.73, 70.89, 661.35, 87.15, 60.0, 20.9, 1903.54, 62.24, 391.65, 86.01, 2578.0, 4118.0, 218.16, 102.0, 6.25, 82.31, 165.08, 1403.72, 607.18, 55.92, 729.85, 46.34, 60.0, 30.9, 1063.43, 190.2, 2959.22, 720.0, 4118.0, 297.06, 1278.74, 102.0, 184.46, 1356.74, 671.23, 73.89, 1154.39, 43.04, 50.9, 2506.85, 124.48, 4206.0, 4118.0, 500.89, 19.49, 102.0, 4.54, 64.34, 166.67, 418.48, 68.9, 5.0, 1373.27, 62.24, 774.91, 59.89, 1510.0, 4118.0, 523.88, 1452.87, 112.2, 15.99, 189.31, 769.86, 43.95, 719.86, 1387.16, 62.32, 2520.93, 1250.0, 4118.0, 427.0, 19.49, 112.2, 26.87, 76.6, 183.99, 390.49, 39.96, 410.11, 1007.24, 76.08, 247.03, 1000.0, 4118.0, 439.85, 112.2, 23.99, 208.05, 429.77], \"sizemode\": \"area\", \"sizeref\": 10.515, \"symbol\": \"circle\"}, \"mode\": \"markers\", \"name\": \"\", \"orientation\": \"h\", \"showlegend\": false, \"type\": \"scatter\", \"x\": [1, 1, 1, 1, 1, 1, 1, 1, 1, 1, 1, 1, 1, 1, 1, 1, 1, 1, 2, 2, 2, 2, 2, 2, 2, 2, 2, 2, 2, 2, 2, 2, 2, 2, 3, 3, 3, 3, 3, 3, 3, 3, 3, 3, 3, 3, 3, 3, 3, 4, 4, 4, 4, 4, 4, 4, 4, 4, 4, 4, 4, 4, 4, 5, 5, 5, 5, 5, 5, 5, 5, 5, 5, 5, 5, 5, 5, 6, 6, 6, 6, 6, 6, 6, 6, 6, 6, 6, 6, 6], \"xaxis\": \"x\", \"y\": [\"AMAZON\", \"AMAZON-VIDEO\", \"BEAN\", \"CAB\", \"CLEANER\", \"DRYCLEAN\", \"GROC/HOUSEHOLD\", \"INSURANCE\", \"MEDICAL\", \"MISC\", \"NANNY\", \"RENT\", \"SEAMLESS\", \"STORAGE\", \"SUBSCRIPTIONS\", \"TBD\", \"UTILS\", \"VACA\", \"AMAZON\", \"AMAZON-VIDEO\", \"BEAN\", \"CAB\", \"CLEANER\", \"DRYCLEAN\", \"GROC/HOUSEHOLD\", \"MEDICAL\", \"MISC\", \"NANNY\", \"RENT\", \"SEAMLESS\", \"SHO\", \"STORAGE\", \"UTILS\", \"VACA\", \"AMAZON\", \"AMAZON-VIDEO\", \"BEAN\", \"CAB\", \"DRYCLEAN\", \"GROC/HOUSEHOLD\", \"INSURANCE\", \"NANNY\", \"RENT\", \"SEAMLESS\", \"SHO\", \"STORAGE\", \"SUBSCRIPTIONS\", \"TBD\", \"UTILS\", \"AMAZON\", \"AMAZON-VIDEO\", \"BEAN\", \"GROC/HOUSEHOLD\", \"INSURANCE\", \"MEDICAL\", \"MISC\", \"NANNY\", \"RENT\", \"SEAMLESS\", \"SHO\", \"STORAGE\", \"SUBSCRIPTIONS\", \"UTILS\", \"AMAZON\", \"AMAZON-VIDEO\", \"BEAN\", \"GROC/HOUSEHOLD\", \"INSURANCE\", \"MISC\", \"NANNY\", \"RENT\", \"SEAMLESS\", \"SHO\", \"STORAGE\", \"SUBSCRIPTIONS\", \"TBD\", \"UTILS\", \"AMAZON\", \"AMAZON-VIDEO\", \"BEAN\", \"GROC/HOUSEHOLD\", \"MEDICAL\", \"MISC\", \"NANNY\", \"RENT\", \"SEAMLESS\", \"STORAGE\", \"SUBSCRIPTIONS\", \"UTILS\", \"VACA\"], \"yaxis\": \"y\"}],\n",
       "                        {\"coloraxis\": {\"colorbar\": {\"title\": {\"text\": \"Total\"}}, \"colorscale\": [[0.0, \"#0d0887\"], [0.1111111111111111, \"#46039f\"], [0.2222222222222222, \"#7201a8\"], [0.3333333333333333, \"#9c179e\"], [0.4444444444444444, \"#bd3786\"], [0.5555555555555556, \"#d8576b\"], [0.6666666666666666, \"#ed7953\"], [0.7777777777777778, \"#fb9f3a\"], [0.8888888888888888, \"#fdca26\"], [1.0, \"#f0f921\"]]}, \"legend\": {\"itemsizing\": \"constant\", \"tracegroupgap\": 0}, \"template\": {\"data\": {\"bar\": [{\"error_x\": {\"color\": \"#2a3f5f\"}, \"error_y\": {\"color\": \"#2a3f5f\"}, \"marker\": {\"line\": {\"color\": \"#E5ECF6\", \"width\": 0.5}}, \"type\": \"bar\"}], \"barpolar\": [{\"marker\": {\"line\": {\"color\": \"#E5ECF6\", \"width\": 0.5}}, \"type\": \"barpolar\"}], \"carpet\": [{\"aaxis\": {\"endlinecolor\": \"#2a3f5f\", \"gridcolor\": \"white\", \"linecolor\": \"white\", \"minorgridcolor\": \"white\", \"startlinecolor\": \"#2a3f5f\"}, \"baxis\": {\"endlinecolor\": \"#2a3f5f\", \"gridcolor\": \"white\", \"linecolor\": \"white\", \"minorgridcolor\": \"white\", \"startlinecolor\": \"#2a3f5f\"}, \"type\": \"carpet\"}], \"choropleth\": [{\"colorbar\": {\"outlinewidth\": 0, \"ticks\": \"\"}, \"type\": \"choropleth\"}], \"contour\": [{\"colorbar\": {\"outlinewidth\": 0, \"ticks\": \"\"}, \"colorscale\": [[0.0, \"#0d0887\"], [0.1111111111111111, \"#46039f\"], [0.2222222222222222, \"#7201a8\"], [0.3333333333333333, \"#9c179e\"], [0.4444444444444444, \"#bd3786\"], [0.5555555555555556, \"#d8576b\"], [0.6666666666666666, \"#ed7953\"], [0.7777777777777778, \"#fb9f3a\"], [0.8888888888888888, \"#fdca26\"], [1.0, \"#f0f921\"]], \"type\": \"contour\"}], \"contourcarpet\": [{\"colorbar\": {\"outlinewidth\": 0, \"ticks\": \"\"}, \"type\": \"contourcarpet\"}], \"heatmap\": [{\"colorbar\": {\"outlinewidth\": 0, \"ticks\": \"\"}, \"colorscale\": [[0.0, \"#0d0887\"], [0.1111111111111111, \"#46039f\"], [0.2222222222222222, \"#7201a8\"], [0.3333333333333333, \"#9c179e\"], [0.4444444444444444, \"#bd3786\"], [0.5555555555555556, \"#d8576b\"], [0.6666666666666666, \"#ed7953\"], [0.7777777777777778, \"#fb9f3a\"], [0.8888888888888888, \"#fdca26\"], [1.0, \"#f0f921\"]], \"type\": \"heatmap\"}], \"heatmapgl\": [{\"colorbar\": {\"outlinewidth\": 0, \"ticks\": \"\"}, \"colorscale\": [[0.0, \"#0d0887\"], [0.1111111111111111, \"#46039f\"], [0.2222222222222222, \"#7201a8\"], [0.3333333333333333, \"#9c179e\"], [0.4444444444444444, \"#bd3786\"], [0.5555555555555556, \"#d8576b\"], [0.6666666666666666, \"#ed7953\"], [0.7777777777777778, \"#fb9f3a\"], [0.8888888888888888, \"#fdca26\"], [1.0, \"#f0f921\"]], \"type\": \"heatmapgl\"}], \"histogram\": [{\"marker\": {\"colorbar\": {\"outlinewidth\": 0, \"ticks\": \"\"}}, \"type\": \"histogram\"}], \"histogram2d\": [{\"colorbar\": {\"outlinewidth\": 0, \"ticks\": \"\"}, \"colorscale\": [[0.0, \"#0d0887\"], [0.1111111111111111, \"#46039f\"], [0.2222222222222222, \"#7201a8\"], [0.3333333333333333, \"#9c179e\"], [0.4444444444444444, \"#bd3786\"], [0.5555555555555556, \"#d8576b\"], [0.6666666666666666, \"#ed7953\"], [0.7777777777777778, \"#fb9f3a\"], [0.8888888888888888, \"#fdca26\"], [1.0, \"#f0f921\"]], \"type\": \"histogram2d\"}], \"histogram2dcontour\": [{\"colorbar\": {\"outlinewidth\": 0, \"ticks\": \"\"}, \"colorscale\": [[0.0, \"#0d0887\"], [0.1111111111111111, \"#46039f\"], [0.2222222222222222, \"#7201a8\"], [0.3333333333333333, \"#9c179e\"], [0.4444444444444444, \"#bd3786\"], [0.5555555555555556, \"#d8576b\"], [0.6666666666666666, \"#ed7953\"], [0.7777777777777778, \"#fb9f3a\"], [0.8888888888888888, \"#fdca26\"], [1.0, \"#f0f921\"]], \"type\": \"histogram2dcontour\"}], \"mesh3d\": [{\"colorbar\": {\"outlinewidth\": 0, \"ticks\": \"\"}, \"type\": \"mesh3d\"}], \"parcoords\": [{\"line\": {\"colorbar\": {\"outlinewidth\": 0, \"ticks\": \"\"}}, \"type\": \"parcoords\"}], \"pie\": [{\"automargin\": true, \"type\": \"pie\"}], \"scatter\": [{\"marker\": {\"colorbar\": {\"outlinewidth\": 0, \"ticks\": \"\"}}, \"type\": \"scatter\"}], \"scatter3d\": [{\"line\": {\"colorbar\": {\"outlinewidth\": 0, \"ticks\": \"\"}}, \"marker\": {\"colorbar\": {\"outlinewidth\": 0, \"ticks\": \"\"}}, \"type\": \"scatter3d\"}], \"scattercarpet\": [{\"marker\": {\"colorbar\": {\"outlinewidth\": 0, \"ticks\": \"\"}}, \"type\": \"scattercarpet\"}], \"scattergeo\": [{\"marker\": {\"colorbar\": {\"outlinewidth\": 0, \"ticks\": \"\"}}, \"type\": \"scattergeo\"}], \"scattergl\": [{\"marker\": {\"colorbar\": {\"outlinewidth\": 0, \"ticks\": \"\"}}, \"type\": \"scattergl\"}], \"scattermapbox\": [{\"marker\": {\"colorbar\": {\"outlinewidth\": 0, \"ticks\": \"\"}}, \"type\": \"scattermapbox\"}], \"scatterpolar\": [{\"marker\": {\"colorbar\": {\"outlinewidth\": 0, \"ticks\": \"\"}}, \"type\": \"scatterpolar\"}], \"scatterpolargl\": [{\"marker\": {\"colorbar\": {\"outlinewidth\": 0, \"ticks\": \"\"}}, \"type\": \"scatterpolargl\"}], \"scatterternary\": [{\"marker\": {\"colorbar\": {\"outlinewidth\": 0, \"ticks\": \"\"}}, \"type\": \"scatterternary\"}], \"surface\": [{\"colorbar\": {\"outlinewidth\": 0, \"ticks\": \"\"}, \"colorscale\": [[0.0, \"#0d0887\"], [0.1111111111111111, \"#46039f\"], [0.2222222222222222, \"#7201a8\"], [0.3333333333333333, \"#9c179e\"], [0.4444444444444444, \"#bd3786\"], [0.5555555555555556, \"#d8576b\"], [0.6666666666666666, \"#ed7953\"], [0.7777777777777778, \"#fb9f3a\"], [0.8888888888888888, \"#fdca26\"], [1.0, \"#f0f921\"]], \"type\": \"surface\"}], \"table\": [{\"cells\": {\"fill\": {\"color\": \"#EBF0F8\"}, \"line\": {\"color\": \"white\"}}, \"header\": {\"fill\": {\"color\": \"#C8D4E3\"}, \"line\": {\"color\": \"white\"}}, \"type\": \"table\"}]}, \"layout\": {\"annotationdefaults\": {\"arrowcolor\": \"#2a3f5f\", \"arrowhead\": 0, \"arrowwidth\": 1}, \"coloraxis\": {\"colorbar\": {\"outlinewidth\": 0, \"ticks\": \"\"}}, \"colorscale\": {\"diverging\": [[0, \"#8e0152\"], [0.1, \"#c51b7d\"], [0.2, \"#de77ae\"], [0.3, \"#f1b6da\"], [0.4, \"#fde0ef\"], [0.5, \"#f7f7f7\"], [0.6, \"#e6f5d0\"], [0.7, \"#b8e186\"], [0.8, \"#7fbc41\"], [0.9, \"#4d9221\"], [1, \"#276419\"]], \"sequential\": [[0.0, \"#0d0887\"], [0.1111111111111111, \"#46039f\"], [0.2222222222222222, \"#7201a8\"], [0.3333333333333333, \"#9c179e\"], [0.4444444444444444, \"#bd3786\"], [0.5555555555555556, \"#d8576b\"], [0.6666666666666666, \"#ed7953\"], [0.7777777777777778, \"#fb9f3a\"], [0.8888888888888888, \"#fdca26\"], [1.0, \"#f0f921\"]], \"sequentialminus\": [[0.0, \"#0d0887\"], [0.1111111111111111, \"#46039f\"], [0.2222222222222222, \"#7201a8\"], [0.3333333333333333, \"#9c179e\"], [0.4444444444444444, \"#bd3786\"], [0.5555555555555556, \"#d8576b\"], [0.6666666666666666, \"#ed7953\"], [0.7777777777777778, \"#fb9f3a\"], [0.8888888888888888, \"#fdca26\"], [1.0, \"#f0f921\"]]}, \"colorway\": [\"#636efa\", \"#EF553B\", \"#00cc96\", \"#ab63fa\", \"#FFA15A\", \"#19d3f3\", \"#FF6692\", \"#B6E880\", \"#FF97FF\", \"#FECB52\"], \"font\": {\"color\": \"#2a3f5f\"}, \"geo\": {\"bgcolor\": \"white\", \"lakecolor\": \"white\", \"landcolor\": \"#E5ECF6\", \"showlakes\": true, \"showland\": true, \"subunitcolor\": \"white\"}, \"hoverlabel\": {\"align\": \"left\"}, \"hovermode\": \"closest\", \"mapbox\": {\"style\": \"light\"}, \"paper_bgcolor\": \"white\", \"plot_bgcolor\": \"#E5ECF6\", \"polar\": {\"angularaxis\": {\"gridcolor\": \"white\", \"linecolor\": \"white\", \"ticks\": \"\"}, \"bgcolor\": \"#E5ECF6\", \"radialaxis\": {\"gridcolor\": \"white\", \"linecolor\": \"white\", \"ticks\": \"\"}}, \"scene\": {\"xaxis\": {\"backgroundcolor\": \"#E5ECF6\", \"gridcolor\": \"white\", \"gridwidth\": 2, \"linecolor\": \"white\", \"showbackground\": true, \"ticks\": \"\", \"zerolinecolor\": \"white\"}, \"yaxis\": {\"backgroundcolor\": \"#E5ECF6\", \"gridcolor\": \"white\", \"gridwidth\": 2, \"linecolor\": \"white\", \"showbackground\": true, \"ticks\": \"\", \"zerolinecolor\": \"white\"}, \"zaxis\": {\"backgroundcolor\": \"#E5ECF6\", \"gridcolor\": \"white\", \"gridwidth\": 2, \"linecolor\": \"white\", \"showbackground\": true, \"ticks\": \"\", \"zerolinecolor\": \"white\"}}, \"shapedefaults\": {\"line\": {\"color\": \"#2a3f5f\"}}, \"ternary\": {\"aaxis\": {\"gridcolor\": \"white\", \"linecolor\": \"white\", \"ticks\": \"\"}, \"baxis\": {\"gridcolor\": \"white\", \"linecolor\": \"white\", \"ticks\": \"\"}, \"bgcolor\": \"#E5ECF6\", \"caxis\": {\"gridcolor\": \"white\", \"linecolor\": \"white\", \"ticks\": \"\"}}, \"title\": {\"x\": 0.05}, \"xaxis\": {\"automargin\": true, \"gridcolor\": \"white\", \"linecolor\": \"white\", \"ticks\": \"\", \"title\": {\"standoff\": 15}, \"zerolinecolor\": \"white\", \"zerolinewidth\": 2}, \"yaxis\": {\"automargin\": true, \"gridcolor\": \"white\", \"linecolor\": \"white\", \"ticks\": \"\", \"title\": {\"standoff\": 15}, \"zerolinecolor\": \"white\", \"zerolinewidth\": 2}}}, \"title\": {\"text\": \"Spending By Month\"}, \"xaxis\": {\"anchor\": \"y\", \"domain\": [0.0, 1.0], \"title\": {\"text\": \"MONTH\"}}, \"yaxis\": {\"anchor\": \"x\", \"domain\": [0.0, 1.0], \"title\": {\"text\": \"CAT\"}}},\n",
       "                        {\"responsive\": true}\n",
       "                    ).then(function(){\n",
       "                            \n",
       "var gd = document.getElementById('43820936-0622-40ca-a706-522a667b4071');\n",
       "var x = new MutationObserver(function (mutations, observer) {{\n",
       "        var display = window.getComputedStyle(gd).display;\n",
       "        if (!display || display === 'none') {{\n",
       "            console.log([gd, 'removed!']);\n",
       "            Plotly.purge(gd);\n",
       "            observer.disconnect();\n",
       "        }}\n",
       "}});\n",
       "\n",
       "// Listen for the removal of the full notebook cells\n",
       "var notebookContainer = gd.closest('#notebook-container');\n",
       "if (notebookContainer) {{\n",
       "    x.observe(notebookContainer, {childList: true});\n",
       "}}\n",
       "\n",
       "// Listen for the clearing of the current output cell\n",
       "var outputEl = gd.closest('.output');\n",
       "if (outputEl) {{\n",
       "    x.observe(outputEl, {childList: true});\n",
       "}}\n",
       "\n",
       "                        })\n",
       "                };\n",
       "                });\n",
       "            </script>\n",
       "        </div>"
      ]
     },
     "metadata": {},
     "output_type": "display_data"
    }
   ],
   "source": [
    "figScatter = px.scatter(\n",
    "    df,\n",
    "    title = 'Spending By Month',\n",
    "    x = 'MONTH',\n",
    "    y = 'CAT',\n",
    "    size = 'Total',\n",
    "    color = 'Total'#,\n",
    "    #range_color = [-2000, 2000]\n",
    ")\n",
    "\n",
    "figScatter.show()"
   ]
  },
  {
   "cell_type": "code",
   "execution_count": 69,
   "metadata": {},
   "outputs": [
    {
     "data": {
      "application/vnd.plotly.v1+json": {
       "config": {
        "plotlyServerURL": "https://plot.ly"
       },
       "data": [
        {
         "branchvalues": "total",
         "customdata": [
          [
           627.73
          ],
          [
           607.18
          ],
          [
           671.23
          ],
          [
           418.4800000000001
          ],
          [
           769.86
          ],
          [
           390.49
          ],
          [
           70.89
          ],
          [
           55.92
          ],
          [
           73.89
          ],
          [
           68.9
          ],
          [
           43.95
          ],
          [
           39.96
          ],
          [
           661.35
          ],
          [
           729.8500000000001
          ],
          [
           1154.39
          ],
          [
           5
          ],
          [
           719.86
          ],
          [
           410.11
          ],
          [
           87.15
          ],
          [
           46.34
          ],
          [
           43.04
          ],
          [
           60
          ],
          [
           60
          ],
          [
           20.9
          ],
          [
           30.9
          ],
          [
           50.9
          ],
          [
           1903.54
          ],
          [
           1063.43
          ],
          [
           2506.85
          ],
          [
           1373.27
          ],
          [
           1387.16
          ],
          [
           1007.24
          ],
          [
           62.24
          ],
          [
           124.48
          ],
          [
           62.24
          ],
          [
           62.32
          ],
          [
           391.65
          ],
          [
           190.2
          ],
          [
           774.91
          ],
          [
           76.08
          ],
          [
           86.01
          ],
          [
           2959.22
          ],
          [
           59.89
          ],
          [
           2520.93
          ],
          [
           247.03
          ],
          [
           2578
          ],
          [
           720
          ],
          [
           4206
          ],
          [
           1510
          ],
          [
           1250
          ],
          [
           1000
          ],
          [
           4118
          ],
          [
           4118
          ],
          [
           4118
          ],
          [
           4118
          ],
          [
           4118
          ],
          [
           4118
          ],
          [
           218.16
          ],
          [
           297.06
          ],
          [
           500.89
          ],
          [
           523.88
          ],
          [
           427
          ],
          [
           439.85
          ],
          [
           1278.74
          ],
          [
           19.49
          ],
          [
           1452.8700000000001
          ],
          [
           19.49
          ],
          [
           102
          ],
          [
           102
          ],
          [
           102
          ],
          [
           112.2
          ],
          [
           112.2
          ],
          [
           112.2
          ],
          [
           6.25
          ],
          [
           4.54
          ],
          [
           15.99
          ],
          [
           26.87
          ],
          [
           23.99
          ],
          [
           82.31
          ],
          [
           64.34
          ],
          [
           76.6
          ],
          [
           165.08
          ],
          [
           184.46
          ],
          [
           166.67
          ],
          [
           189.31
          ],
          [
           183.99
          ],
          [
           208.05
          ],
          [
           1403.72
          ],
          [
           1356.74
          ],
          [
           429.77
          ],
          [
           2396.4223684655885
          ],
          [
           2313.046758603598
          ],
          [
           3116.9507398866194
          ],
          [
           2278.5062563383603
          ],
          [
           2402.4244900211033
          ],
          [
           2328.200962356973
          ],
          [
           2495.1872135259623
          ]
         ],
         "domain": {
          "x": [
           0,
           1
          ],
          "y": [
           0,
           1
          ]
         },
         "hovertemplate": "labels=%{label}<br>Total_sum=%{value}<br>parent=%{parent}<br>id=%{id}<br>Total=%{color}<extra></extra>",
         "ids": [
          "Total/1/AMAZON",
          "Total/2/AMAZON",
          "Total/3/AMAZON",
          "Total/4/AMAZON",
          "Total/5/AMAZON",
          "Total/6/AMAZON",
          "Total/1/AMAZON-VIDEO",
          "Total/2/AMAZON-VIDEO",
          "Total/3/AMAZON-VIDEO",
          "Total/4/AMAZON-VIDEO",
          "Total/5/AMAZON-VIDEO",
          "Total/6/AMAZON-VIDEO",
          "Total/1/BEAN",
          "Total/2/BEAN",
          "Total/3/BEAN",
          "Total/4/BEAN",
          "Total/5/BEAN",
          "Total/6/BEAN",
          "Total/1/CAB",
          "Total/2/CAB",
          "Total/3/CAB",
          "Total/1/CLEANER",
          "Total/2/CLEANER",
          "Total/1/DRYCLEAN",
          "Total/2/DRYCLEAN",
          "Total/3/DRYCLEAN",
          "Total/1/GROC/HOUSEHOLD",
          "Total/2/GROC/HOUSEHOLD",
          "Total/3/GROC/HOUSEHOLD",
          "Total/4/GROC/HOUSEHOLD",
          "Total/5/GROC/HOUSEHOLD",
          "Total/6/GROC/HOUSEHOLD",
          "Total/1/INSURANCE",
          "Total/3/INSURANCE",
          "Total/4/INSURANCE",
          "Total/5/INSURANCE",
          "Total/1/MEDICAL",
          "Total/2/MEDICAL",
          "Total/4/MEDICAL",
          "Total/6/MEDICAL",
          "Total/1/MISC",
          "Total/2/MISC",
          "Total/4/MISC",
          "Total/5/MISC",
          "Total/6/MISC",
          "Total/1/NANNY",
          "Total/2/NANNY",
          "Total/3/NANNY",
          "Total/4/NANNY",
          "Total/5/NANNY",
          "Total/6/NANNY",
          "Total/1/RENT",
          "Total/2/RENT",
          "Total/3/RENT",
          "Total/4/RENT",
          "Total/5/RENT",
          "Total/6/RENT",
          "Total/1/SEAMLESS",
          "Total/2/SEAMLESS",
          "Total/3/SEAMLESS",
          "Total/4/SEAMLESS",
          "Total/5/SEAMLESS",
          "Total/6/SEAMLESS",
          "Total/2/SHO",
          "Total/3/SHO",
          "Total/4/SHO",
          "Total/5/SHO",
          "Total/1/STORAGE",
          "Total/2/STORAGE",
          "Total/3/STORAGE",
          "Total/4/STORAGE",
          "Total/5/STORAGE",
          "Total/6/STORAGE",
          "Total/1/SUBSCRIPTIONS",
          "Total/3/SUBSCRIPTIONS",
          "Total/4/SUBSCRIPTIONS",
          "Total/5/SUBSCRIPTIONS",
          "Total/6/SUBSCRIPTIONS",
          "Total/1/TBD",
          "Total/3/TBD",
          "Total/5/TBD",
          "Total/1/UTILS",
          "Total/2/UTILS",
          "Total/3/UTILS",
          "Total/4/UTILS",
          "Total/5/UTILS",
          "Total/6/UTILS",
          "Total/1/VACA",
          "Total/2/VACA",
          "Total/6/VACA",
          "Total/1",
          "Total/2",
          "Total/3",
          "Total/4",
          "Total/5",
          "Total/6",
          "Total"
         ],
         "labels": [
          "AMAZON",
          "AMAZON",
          "AMAZON",
          "AMAZON",
          "AMAZON",
          "AMAZON",
          "AMAZON-VIDEO",
          "AMAZON-VIDEO",
          "AMAZON-VIDEO",
          "AMAZON-VIDEO",
          "AMAZON-VIDEO",
          "AMAZON-VIDEO",
          "BEAN",
          "BEAN",
          "BEAN",
          "BEAN",
          "BEAN",
          "BEAN",
          "CAB",
          "CAB",
          "CAB",
          "CLEANER",
          "CLEANER",
          "DRYCLEAN",
          "DRYCLEAN",
          "DRYCLEAN",
          "GROC/HOUSEHOLD",
          "GROC/HOUSEHOLD",
          "GROC/HOUSEHOLD",
          "GROC/HOUSEHOLD",
          "GROC/HOUSEHOLD",
          "GROC/HOUSEHOLD",
          "INSURANCE",
          "INSURANCE",
          "INSURANCE",
          "INSURANCE",
          "MEDICAL",
          "MEDICAL",
          "MEDICAL",
          "MEDICAL",
          "MISC",
          "MISC",
          "MISC",
          "MISC",
          "MISC",
          "NANNY",
          "NANNY",
          "NANNY",
          "NANNY",
          "NANNY",
          "NANNY",
          "RENT",
          "RENT",
          "RENT",
          "RENT",
          "RENT",
          "RENT",
          "SEAMLESS",
          "SEAMLESS",
          "SEAMLESS",
          "SEAMLESS",
          "SEAMLESS",
          "SEAMLESS",
          "SHO",
          "SHO",
          "SHO",
          "SHO",
          "STORAGE",
          "STORAGE",
          "STORAGE",
          "STORAGE",
          "STORAGE",
          "STORAGE",
          "SUBSCRIPTIONS",
          "SUBSCRIPTIONS",
          "SUBSCRIPTIONS",
          "SUBSCRIPTIONS",
          "SUBSCRIPTIONS",
          "TBD",
          "TBD",
          "TBD",
          "UTILS",
          "UTILS",
          "UTILS",
          "UTILS",
          "UTILS",
          "UTILS",
          "VACA",
          "VACA",
          "VACA",
          "1",
          "2",
          "3",
          "4",
          "5",
          "6",
          "Total"
         ],
         "marker": {
          "coloraxis": "coloraxis",
          "colors": [
           627.73,
           607.18,
           671.23,
           418.4800000000001,
           769.86,
           390.49,
           70.89,
           55.92,
           73.89,
           68.9,
           43.95,
           39.96,
           661.35,
           729.8500000000001,
           1154.39,
           5,
           719.86,
           410.11,
           87.15,
           46.34,
           43.04,
           60,
           60,
           20.9,
           30.9,
           50.9,
           1903.54,
           1063.43,
           2506.85,
           1373.27,
           1387.16,
           1007.24,
           62.24,
           124.48,
           62.24,
           62.32,
           391.65,
           190.2,
           774.91,
           76.08,
           86.01,
           2959.22,
           59.89,
           2520.93,
           247.03,
           2578,
           720,
           4206,
           1510,
           1250,
           1000,
           4118,
           4118,
           4118,
           4118,
           4118,
           4118,
           218.16,
           297.06,
           500.89,
           523.88,
           427,
           439.85,
           1278.74,
           19.49,
           1452.8700000000001,
           19.49,
           102,
           102,
           102,
           112.2,
           112.2,
           112.2,
           6.25,
           4.54,
           15.99,
           26.87,
           23.99,
           82.31,
           64.34,
           76.6,
           165.08,
           184.46,
           166.67,
           189.31,
           183.99,
           208.05,
           1403.72,
           1356.74,
           429.77,
           2396.4223684655885,
           2313.046758603598,
           3116.9507398866194,
           2278.5062563383603,
           2402.4244900211033,
           2328.200962356973,
           2495.1872135259623
          ]
         },
         "name": "",
         "parents": [
          "Total/1",
          "Total/2",
          "Total/3",
          "Total/4",
          "Total/5",
          "Total/6",
          "Total/1",
          "Total/2",
          "Total/3",
          "Total/4",
          "Total/5",
          "Total/6",
          "Total/1",
          "Total/2",
          "Total/3",
          "Total/4",
          "Total/5",
          "Total/6",
          "Total/1",
          "Total/2",
          "Total/3",
          "Total/1",
          "Total/2",
          "Total/1",
          "Total/2",
          "Total/3",
          "Total/1",
          "Total/2",
          "Total/3",
          "Total/4",
          "Total/5",
          "Total/6",
          "Total/1",
          "Total/3",
          "Total/4",
          "Total/5",
          "Total/1",
          "Total/2",
          "Total/4",
          "Total/6",
          "Total/1",
          "Total/2",
          "Total/4",
          "Total/5",
          "Total/6",
          "Total/1",
          "Total/2",
          "Total/3",
          "Total/4",
          "Total/5",
          "Total/6",
          "Total/1",
          "Total/2",
          "Total/3",
          "Total/4",
          "Total/5",
          "Total/6",
          "Total/1",
          "Total/2",
          "Total/3",
          "Total/4",
          "Total/5",
          "Total/6",
          "Total/2",
          "Total/3",
          "Total/4",
          "Total/5",
          "Total/1",
          "Total/2",
          "Total/3",
          "Total/4",
          "Total/5",
          "Total/6",
          "Total/1",
          "Total/3",
          "Total/4",
          "Total/5",
          "Total/6",
          "Total/1",
          "Total/3",
          "Total/5",
          "Total/1",
          "Total/2",
          "Total/3",
          "Total/4",
          "Total/5",
          "Total/6",
          "Total/1",
          "Total/2",
          "Total/6",
          "Total",
          "Total",
          "Total",
          "Total",
          "Total",
          "Total",
          ""
         ],
         "type": "treemap",
         "values": [
          627.73,
          607.18,
          671.23,
          418.48,
          769.86,
          390.49,
          70.89,
          55.92,
          73.89,
          68.9,
          43.95,
          39.96,
          661.35,
          729.85,
          1154.39,
          5,
          719.86,
          410.11,
          87.15,
          46.34,
          43.04,
          60,
          60,
          20.9,
          30.9,
          50.9,
          1903.54,
          1063.43,
          2506.85,
          1373.27,
          1387.16,
          1007.24,
          62.24,
          124.48,
          62.24,
          62.32,
          391.65,
          190.2,
          774.91,
          76.08,
          86.01,
          2959.22,
          59.89,
          2520.93,
          247.03,
          2578,
          720,
          4206,
          1510,
          1250,
          1000,
          4118,
          4118,
          4118,
          4118,
          4118,
          4118,
          218.16,
          297.06,
          500.89,
          523.88,
          427,
          439.85,
          1278.74,
          19.49,
          1452.87,
          19.49,
          102,
          102,
          102,
          112.2,
          112.2,
          112.2,
          6.25,
          4.54,
          15.99,
          26.87,
          23.99,
          82.31,
          64.34,
          76.6,
          165.08,
          184.46,
          166.67,
          189.31,
          183.99,
          208.05,
          1403.72,
          1356.74,
          429.77,
          12644.98,
          13800.039999999997,
          13806.71,
          10684.939999999999,
          11718.230000000001,
          8502.77,
          71157.67
         ]
        }
       ],
       "layout": {
        "coloraxis": {
         "colorbar": {
          "title": {
           "text": "Total"
          }
         },
         "colorscale": [
          [
           0,
           "rgb(103,0,31)"
          ],
          [
           0.1,
           "rgb(178,24,43)"
          ],
          [
           0.2,
           "rgb(214,96,77)"
          ],
          [
           0.3,
           "rgb(244,165,130)"
          ],
          [
           0.4,
           "rgb(253,219,199)"
          ],
          [
           0.5,
           "rgb(247,247,247)"
          ],
          [
           0.6,
           "rgb(209,229,240)"
          ],
          [
           0.7,
           "rgb(146,197,222)"
          ],
          [
           0.8,
           "rgb(67,147,195)"
          ],
          [
           0.9,
           "rgb(33,102,172)"
          ],
          [
           1,
           "rgb(5,48,97)"
          ]
         ]
        },
        "legend": {
         "tracegroupgap": 0
        },
        "margin": {
         "t": 60
        },
        "template": {
         "data": {
          "bar": [
           {
            "error_x": {
             "color": "#2a3f5f"
            },
            "error_y": {
             "color": "#2a3f5f"
            },
            "marker": {
             "line": {
              "color": "#E5ECF6",
              "width": 0.5
             }
            },
            "type": "bar"
           }
          ],
          "barpolar": [
           {
            "marker": {
             "line": {
              "color": "#E5ECF6",
              "width": 0.5
             }
            },
            "type": "barpolar"
           }
          ],
          "carpet": [
           {
            "aaxis": {
             "endlinecolor": "#2a3f5f",
             "gridcolor": "white",
             "linecolor": "white",
             "minorgridcolor": "white",
             "startlinecolor": "#2a3f5f"
            },
            "baxis": {
             "endlinecolor": "#2a3f5f",
             "gridcolor": "white",
             "linecolor": "white",
             "minorgridcolor": "white",
             "startlinecolor": "#2a3f5f"
            },
            "type": "carpet"
           }
          ],
          "choropleth": [
           {
            "colorbar": {
             "outlinewidth": 0,
             "ticks": ""
            },
            "type": "choropleth"
           }
          ],
          "contour": [
           {
            "colorbar": {
             "outlinewidth": 0,
             "ticks": ""
            },
            "colorscale": [
             [
              0,
              "#0d0887"
             ],
             [
              0.1111111111111111,
              "#46039f"
             ],
             [
              0.2222222222222222,
              "#7201a8"
             ],
             [
              0.3333333333333333,
              "#9c179e"
             ],
             [
              0.4444444444444444,
              "#bd3786"
             ],
             [
              0.5555555555555556,
              "#d8576b"
             ],
             [
              0.6666666666666666,
              "#ed7953"
             ],
             [
              0.7777777777777778,
              "#fb9f3a"
             ],
             [
              0.8888888888888888,
              "#fdca26"
             ],
             [
              1,
              "#f0f921"
             ]
            ],
            "type": "contour"
           }
          ],
          "contourcarpet": [
           {
            "colorbar": {
             "outlinewidth": 0,
             "ticks": ""
            },
            "type": "contourcarpet"
           }
          ],
          "heatmap": [
           {
            "colorbar": {
             "outlinewidth": 0,
             "ticks": ""
            },
            "colorscale": [
             [
              0,
              "#0d0887"
             ],
             [
              0.1111111111111111,
              "#46039f"
             ],
             [
              0.2222222222222222,
              "#7201a8"
             ],
             [
              0.3333333333333333,
              "#9c179e"
             ],
             [
              0.4444444444444444,
              "#bd3786"
             ],
             [
              0.5555555555555556,
              "#d8576b"
             ],
             [
              0.6666666666666666,
              "#ed7953"
             ],
             [
              0.7777777777777778,
              "#fb9f3a"
             ],
             [
              0.8888888888888888,
              "#fdca26"
             ],
             [
              1,
              "#f0f921"
             ]
            ],
            "type": "heatmap"
           }
          ],
          "heatmapgl": [
           {
            "colorbar": {
             "outlinewidth": 0,
             "ticks": ""
            },
            "colorscale": [
             [
              0,
              "#0d0887"
             ],
             [
              0.1111111111111111,
              "#46039f"
             ],
             [
              0.2222222222222222,
              "#7201a8"
             ],
             [
              0.3333333333333333,
              "#9c179e"
             ],
             [
              0.4444444444444444,
              "#bd3786"
             ],
             [
              0.5555555555555556,
              "#d8576b"
             ],
             [
              0.6666666666666666,
              "#ed7953"
             ],
             [
              0.7777777777777778,
              "#fb9f3a"
             ],
             [
              0.8888888888888888,
              "#fdca26"
             ],
             [
              1,
              "#f0f921"
             ]
            ],
            "type": "heatmapgl"
           }
          ],
          "histogram": [
           {
            "marker": {
             "colorbar": {
              "outlinewidth": 0,
              "ticks": ""
             }
            },
            "type": "histogram"
           }
          ],
          "histogram2d": [
           {
            "colorbar": {
             "outlinewidth": 0,
             "ticks": ""
            },
            "colorscale": [
             [
              0,
              "#0d0887"
             ],
             [
              0.1111111111111111,
              "#46039f"
             ],
             [
              0.2222222222222222,
              "#7201a8"
             ],
             [
              0.3333333333333333,
              "#9c179e"
             ],
             [
              0.4444444444444444,
              "#bd3786"
             ],
             [
              0.5555555555555556,
              "#d8576b"
             ],
             [
              0.6666666666666666,
              "#ed7953"
             ],
             [
              0.7777777777777778,
              "#fb9f3a"
             ],
             [
              0.8888888888888888,
              "#fdca26"
             ],
             [
              1,
              "#f0f921"
             ]
            ],
            "type": "histogram2d"
           }
          ],
          "histogram2dcontour": [
           {
            "colorbar": {
             "outlinewidth": 0,
             "ticks": ""
            },
            "colorscale": [
             [
              0,
              "#0d0887"
             ],
             [
              0.1111111111111111,
              "#46039f"
             ],
             [
              0.2222222222222222,
              "#7201a8"
             ],
             [
              0.3333333333333333,
              "#9c179e"
             ],
             [
              0.4444444444444444,
              "#bd3786"
             ],
             [
              0.5555555555555556,
              "#d8576b"
             ],
             [
              0.6666666666666666,
              "#ed7953"
             ],
             [
              0.7777777777777778,
              "#fb9f3a"
             ],
             [
              0.8888888888888888,
              "#fdca26"
             ],
             [
              1,
              "#f0f921"
             ]
            ],
            "type": "histogram2dcontour"
           }
          ],
          "mesh3d": [
           {
            "colorbar": {
             "outlinewidth": 0,
             "ticks": ""
            },
            "type": "mesh3d"
           }
          ],
          "parcoords": [
           {
            "line": {
             "colorbar": {
              "outlinewidth": 0,
              "ticks": ""
             }
            },
            "type": "parcoords"
           }
          ],
          "pie": [
           {
            "automargin": true,
            "type": "pie"
           }
          ],
          "scatter": [
           {
            "marker": {
             "colorbar": {
              "outlinewidth": 0,
              "ticks": ""
             }
            },
            "type": "scatter"
           }
          ],
          "scatter3d": [
           {
            "line": {
             "colorbar": {
              "outlinewidth": 0,
              "ticks": ""
             }
            },
            "marker": {
             "colorbar": {
              "outlinewidth": 0,
              "ticks": ""
             }
            },
            "type": "scatter3d"
           }
          ],
          "scattercarpet": [
           {
            "marker": {
             "colorbar": {
              "outlinewidth": 0,
              "ticks": ""
             }
            },
            "type": "scattercarpet"
           }
          ],
          "scattergeo": [
           {
            "marker": {
             "colorbar": {
              "outlinewidth": 0,
              "ticks": ""
             }
            },
            "type": "scattergeo"
           }
          ],
          "scattergl": [
           {
            "marker": {
             "colorbar": {
              "outlinewidth": 0,
              "ticks": ""
             }
            },
            "type": "scattergl"
           }
          ],
          "scattermapbox": [
           {
            "marker": {
             "colorbar": {
              "outlinewidth": 0,
              "ticks": ""
             }
            },
            "type": "scattermapbox"
           }
          ],
          "scatterpolar": [
           {
            "marker": {
             "colorbar": {
              "outlinewidth": 0,
              "ticks": ""
             }
            },
            "type": "scatterpolar"
           }
          ],
          "scatterpolargl": [
           {
            "marker": {
             "colorbar": {
              "outlinewidth": 0,
              "ticks": ""
             }
            },
            "type": "scatterpolargl"
           }
          ],
          "scatterternary": [
           {
            "marker": {
             "colorbar": {
              "outlinewidth": 0,
              "ticks": ""
             }
            },
            "type": "scatterternary"
           }
          ],
          "surface": [
           {
            "colorbar": {
             "outlinewidth": 0,
             "ticks": ""
            },
            "colorscale": [
             [
              0,
              "#0d0887"
             ],
             [
              0.1111111111111111,
              "#46039f"
             ],
             [
              0.2222222222222222,
              "#7201a8"
             ],
             [
              0.3333333333333333,
              "#9c179e"
             ],
             [
              0.4444444444444444,
              "#bd3786"
             ],
             [
              0.5555555555555556,
              "#d8576b"
             ],
             [
              0.6666666666666666,
              "#ed7953"
             ],
             [
              0.7777777777777778,
              "#fb9f3a"
             ],
             [
              0.8888888888888888,
              "#fdca26"
             ],
             [
              1,
              "#f0f921"
             ]
            ],
            "type": "surface"
           }
          ],
          "table": [
           {
            "cells": {
             "fill": {
              "color": "#EBF0F8"
             },
             "line": {
              "color": "white"
             }
            },
            "header": {
             "fill": {
              "color": "#C8D4E3"
             },
             "line": {
              "color": "white"
             }
            },
            "type": "table"
           }
          ]
         },
         "layout": {
          "annotationdefaults": {
           "arrowcolor": "#2a3f5f",
           "arrowhead": 0,
           "arrowwidth": 1
          },
          "coloraxis": {
           "colorbar": {
            "outlinewidth": 0,
            "ticks": ""
           }
          },
          "colorscale": {
           "diverging": [
            [
             0,
             "#8e0152"
            ],
            [
             0.1,
             "#c51b7d"
            ],
            [
             0.2,
             "#de77ae"
            ],
            [
             0.3,
             "#f1b6da"
            ],
            [
             0.4,
             "#fde0ef"
            ],
            [
             0.5,
             "#f7f7f7"
            ],
            [
             0.6,
             "#e6f5d0"
            ],
            [
             0.7,
             "#b8e186"
            ],
            [
             0.8,
             "#7fbc41"
            ],
            [
             0.9,
             "#4d9221"
            ],
            [
             1,
             "#276419"
            ]
           ],
           "sequential": [
            [
             0,
             "#0d0887"
            ],
            [
             0.1111111111111111,
             "#46039f"
            ],
            [
             0.2222222222222222,
             "#7201a8"
            ],
            [
             0.3333333333333333,
             "#9c179e"
            ],
            [
             0.4444444444444444,
             "#bd3786"
            ],
            [
             0.5555555555555556,
             "#d8576b"
            ],
            [
             0.6666666666666666,
             "#ed7953"
            ],
            [
             0.7777777777777778,
             "#fb9f3a"
            ],
            [
             0.8888888888888888,
             "#fdca26"
            ],
            [
             1,
             "#f0f921"
            ]
           ],
           "sequentialminus": [
            [
             0,
             "#0d0887"
            ],
            [
             0.1111111111111111,
             "#46039f"
            ],
            [
             0.2222222222222222,
             "#7201a8"
            ],
            [
             0.3333333333333333,
             "#9c179e"
            ],
            [
             0.4444444444444444,
             "#bd3786"
            ],
            [
             0.5555555555555556,
             "#d8576b"
            ],
            [
             0.6666666666666666,
             "#ed7953"
            ],
            [
             0.7777777777777778,
             "#fb9f3a"
            ],
            [
             0.8888888888888888,
             "#fdca26"
            ],
            [
             1,
             "#f0f921"
            ]
           ]
          },
          "colorway": [
           "#636efa",
           "#EF553B",
           "#00cc96",
           "#ab63fa",
           "#FFA15A",
           "#19d3f3",
           "#FF6692",
           "#B6E880",
           "#FF97FF",
           "#FECB52"
          ],
          "font": {
           "color": "#2a3f5f"
          },
          "geo": {
           "bgcolor": "white",
           "lakecolor": "white",
           "landcolor": "#E5ECF6",
           "showlakes": true,
           "showland": true,
           "subunitcolor": "white"
          },
          "hoverlabel": {
           "align": "left"
          },
          "hovermode": "closest",
          "mapbox": {
           "style": "light"
          },
          "paper_bgcolor": "white",
          "plot_bgcolor": "#E5ECF6",
          "polar": {
           "angularaxis": {
            "gridcolor": "white",
            "linecolor": "white",
            "ticks": ""
           },
           "bgcolor": "#E5ECF6",
           "radialaxis": {
            "gridcolor": "white",
            "linecolor": "white",
            "ticks": ""
           }
          },
          "scene": {
           "xaxis": {
            "backgroundcolor": "#E5ECF6",
            "gridcolor": "white",
            "gridwidth": 2,
            "linecolor": "white",
            "showbackground": true,
            "ticks": "",
            "zerolinecolor": "white"
           },
           "yaxis": {
            "backgroundcolor": "#E5ECF6",
            "gridcolor": "white",
            "gridwidth": 2,
            "linecolor": "white",
            "showbackground": true,
            "ticks": "",
            "zerolinecolor": "white"
           },
           "zaxis": {
            "backgroundcolor": "#E5ECF6",
            "gridcolor": "white",
            "gridwidth": 2,
            "linecolor": "white",
            "showbackground": true,
            "ticks": "",
            "zerolinecolor": "white"
           }
          },
          "shapedefaults": {
           "line": {
            "color": "#2a3f5f"
           }
          },
          "ternary": {
           "aaxis": {
            "gridcolor": "white",
            "linecolor": "white",
            "ticks": ""
           },
           "baxis": {
            "gridcolor": "white",
            "linecolor": "white",
            "ticks": ""
           },
           "bgcolor": "#E5ECF6",
           "caxis": {
            "gridcolor": "white",
            "linecolor": "white",
            "ticks": ""
           }
          },
          "title": {
           "x": 0.05
          },
          "xaxis": {
           "automargin": true,
           "gridcolor": "white",
           "linecolor": "white",
           "ticks": "",
           "title": {
            "standoff": 15
           },
           "zerolinecolor": "white",
           "zerolinewidth": 2
          },
          "yaxis": {
           "automargin": true,
           "gridcolor": "white",
           "linecolor": "white",
           "ticks": "",
           "title": {
            "standoff": 15
           },
           "zerolinecolor": "white",
           "zerolinewidth": 2
          }
         }
        }
       }
      },
      "text/html": [
       "<div>\n",
       "        \n",
       "        \n",
       "            <div id=\"926d8c45-835e-4463-9b58-c62df1ed5709\" class=\"plotly-graph-div\" style=\"height:525px; width:100%;\"></div>\n",
       "            <script type=\"text/javascript\">\n",
       "                require([\"plotly\"], function(Plotly) {\n",
       "                    window.PLOTLYENV=window.PLOTLYENV || {};\n",
       "                    \n",
       "                if (document.getElementById(\"926d8c45-835e-4463-9b58-c62df1ed5709\")) {\n",
       "                    Plotly.newPlot(\n",
       "                        '926d8c45-835e-4463-9b58-c62df1ed5709',\n",
       "                        [{\"branchvalues\": \"total\", \"customdata\": [[627.73], [607.18], [671.23], [418.4800000000001], [769.86], [390.49], [70.89], [55.92], [73.89], [68.9], [43.95], [39.96], [661.35], [729.8500000000001], [1154.39], [5.0], [719.86], [410.11], [87.15], [46.34], [43.04], [60.0], [60.0], [20.9], [30.9], [50.9], [1903.54], [1063.43], [2506.85], [1373.27], [1387.16], [1007.24], [62.24], [124.48], [62.24], [62.32], [391.65], [190.2], [774.91], [76.08], [86.01], [2959.22], [59.89], [2520.93], [247.03], [2578.0], [720.0], [4206.0], [1510.0], [1250.0], [1000.0], [4118.0], [4118.0], [4118.0], [4118.0], [4118.0], [4118.0], [218.16], [297.06], [500.89], [523.88], [427.0], [439.85], [1278.74], [19.49], [1452.8700000000001], [19.49], [102.0], [102.0], [102.0], [112.2], [112.2], [112.2], [6.25], [4.54], [15.99], [26.87], [23.99], [82.31], [64.34], [76.6], [165.08], [184.46], [166.67], [189.31], [183.99], [208.05], [1403.72], [1356.74], [429.77], [2396.4223684655885], [2313.046758603598], [3116.9507398866194], [2278.5062563383603], [2402.4244900211033], [2328.200962356973], [2495.1872135259623]], \"domain\": {\"x\": [0.0, 1.0], \"y\": [0.0, 1.0]}, \"hovertemplate\": \"labels=%{label}<br>Total_sum=%{value}<br>parent=%{parent}<br>id=%{id}<br>Total=%{color}<extra></extra>\", \"ids\": [\"Total/1/AMAZON\", \"Total/2/AMAZON\", \"Total/3/AMAZON\", \"Total/4/AMAZON\", \"Total/5/AMAZON\", \"Total/6/AMAZON\", \"Total/1/AMAZON-VIDEO\", \"Total/2/AMAZON-VIDEO\", \"Total/3/AMAZON-VIDEO\", \"Total/4/AMAZON-VIDEO\", \"Total/5/AMAZON-VIDEO\", \"Total/6/AMAZON-VIDEO\", \"Total/1/BEAN\", \"Total/2/BEAN\", \"Total/3/BEAN\", \"Total/4/BEAN\", \"Total/5/BEAN\", \"Total/6/BEAN\", \"Total/1/CAB\", \"Total/2/CAB\", \"Total/3/CAB\", \"Total/1/CLEANER\", \"Total/2/CLEANER\", \"Total/1/DRYCLEAN\", \"Total/2/DRYCLEAN\", \"Total/3/DRYCLEAN\", \"Total/1/GROC/HOUSEHOLD\", \"Total/2/GROC/HOUSEHOLD\", \"Total/3/GROC/HOUSEHOLD\", \"Total/4/GROC/HOUSEHOLD\", \"Total/5/GROC/HOUSEHOLD\", \"Total/6/GROC/HOUSEHOLD\", \"Total/1/INSURANCE\", \"Total/3/INSURANCE\", \"Total/4/INSURANCE\", \"Total/5/INSURANCE\", \"Total/1/MEDICAL\", \"Total/2/MEDICAL\", \"Total/4/MEDICAL\", \"Total/6/MEDICAL\", \"Total/1/MISC\", \"Total/2/MISC\", \"Total/4/MISC\", \"Total/5/MISC\", \"Total/6/MISC\", \"Total/1/NANNY\", \"Total/2/NANNY\", \"Total/3/NANNY\", \"Total/4/NANNY\", \"Total/5/NANNY\", \"Total/6/NANNY\", \"Total/1/RENT\", \"Total/2/RENT\", \"Total/3/RENT\", \"Total/4/RENT\", \"Total/5/RENT\", \"Total/6/RENT\", \"Total/1/SEAMLESS\", \"Total/2/SEAMLESS\", \"Total/3/SEAMLESS\", \"Total/4/SEAMLESS\", \"Total/5/SEAMLESS\", \"Total/6/SEAMLESS\", \"Total/2/SHO\", \"Total/3/SHO\", \"Total/4/SHO\", \"Total/5/SHO\", \"Total/1/STORAGE\", \"Total/2/STORAGE\", \"Total/3/STORAGE\", \"Total/4/STORAGE\", \"Total/5/STORAGE\", \"Total/6/STORAGE\", \"Total/1/SUBSCRIPTIONS\", \"Total/3/SUBSCRIPTIONS\", \"Total/4/SUBSCRIPTIONS\", \"Total/5/SUBSCRIPTIONS\", \"Total/6/SUBSCRIPTIONS\", \"Total/1/TBD\", \"Total/3/TBD\", \"Total/5/TBD\", \"Total/1/UTILS\", \"Total/2/UTILS\", \"Total/3/UTILS\", \"Total/4/UTILS\", \"Total/5/UTILS\", \"Total/6/UTILS\", \"Total/1/VACA\", \"Total/2/VACA\", \"Total/6/VACA\", \"Total/1\", \"Total/2\", \"Total/3\", \"Total/4\", \"Total/5\", \"Total/6\", \"Total\"], \"labels\": [\"AMAZON\", \"AMAZON\", \"AMAZON\", \"AMAZON\", \"AMAZON\", \"AMAZON\", \"AMAZON-VIDEO\", \"AMAZON-VIDEO\", \"AMAZON-VIDEO\", \"AMAZON-VIDEO\", \"AMAZON-VIDEO\", \"AMAZON-VIDEO\", \"BEAN\", \"BEAN\", \"BEAN\", \"BEAN\", \"BEAN\", \"BEAN\", \"CAB\", \"CAB\", \"CAB\", \"CLEANER\", \"CLEANER\", \"DRYCLEAN\", \"DRYCLEAN\", \"DRYCLEAN\", \"GROC/HOUSEHOLD\", \"GROC/HOUSEHOLD\", \"GROC/HOUSEHOLD\", \"GROC/HOUSEHOLD\", \"GROC/HOUSEHOLD\", \"GROC/HOUSEHOLD\", \"INSURANCE\", \"INSURANCE\", \"INSURANCE\", \"INSURANCE\", \"MEDICAL\", \"MEDICAL\", \"MEDICAL\", \"MEDICAL\", \"MISC\", \"MISC\", \"MISC\", \"MISC\", \"MISC\", \"NANNY\", \"NANNY\", \"NANNY\", \"NANNY\", \"NANNY\", \"NANNY\", \"RENT\", \"RENT\", \"RENT\", \"RENT\", \"RENT\", \"RENT\", \"SEAMLESS\", \"SEAMLESS\", \"SEAMLESS\", \"SEAMLESS\", \"SEAMLESS\", \"SEAMLESS\", \"SHO\", \"SHO\", \"SHO\", \"SHO\", \"STORAGE\", \"STORAGE\", \"STORAGE\", \"STORAGE\", \"STORAGE\", \"STORAGE\", \"SUBSCRIPTIONS\", \"SUBSCRIPTIONS\", \"SUBSCRIPTIONS\", \"SUBSCRIPTIONS\", \"SUBSCRIPTIONS\", \"TBD\", \"TBD\", \"TBD\", \"UTILS\", \"UTILS\", \"UTILS\", \"UTILS\", \"UTILS\", \"UTILS\", \"VACA\", \"VACA\", \"VACA\", \"1\", \"2\", \"3\", \"4\", \"5\", \"6\", \"Total\"], \"marker\": {\"coloraxis\": \"coloraxis\", \"colors\": [627.73, 607.18, 671.23, 418.4800000000001, 769.86, 390.49, 70.89, 55.92, 73.89, 68.9, 43.95, 39.96, 661.35, 729.8500000000001, 1154.39, 5.0, 719.86, 410.11, 87.15, 46.34, 43.04, 60.0, 60.0, 20.9, 30.9, 50.9, 1903.54, 1063.43, 2506.85, 1373.27, 1387.16, 1007.24, 62.24, 124.48, 62.24, 62.32, 391.65, 190.2, 774.91, 76.08, 86.01, 2959.22, 59.89, 2520.93, 247.03, 2578.0, 720.0, 4206.0, 1510.0, 1250.0, 1000.0, 4118.0, 4118.0, 4118.0, 4118.0, 4118.0, 4118.0, 218.16, 297.06, 500.89, 523.88, 427.0, 439.85, 1278.74, 19.49, 1452.8700000000001, 19.49, 102.0, 102.0, 102.0, 112.2, 112.2, 112.2, 6.25, 4.54, 15.99, 26.87, 23.99, 82.31, 64.34, 76.6, 165.08, 184.46, 166.67, 189.31, 183.99, 208.05, 1403.72, 1356.74, 429.77, 2396.4223684655885, 2313.046758603598, 3116.9507398866194, 2278.5062563383603, 2402.4244900211033, 2328.200962356973, 2495.1872135259623]}, \"name\": \"\", \"parents\": [\"Total/1\", \"Total/2\", \"Total/3\", \"Total/4\", \"Total/5\", \"Total/6\", \"Total/1\", \"Total/2\", \"Total/3\", \"Total/4\", \"Total/5\", \"Total/6\", \"Total/1\", \"Total/2\", \"Total/3\", \"Total/4\", \"Total/5\", \"Total/6\", \"Total/1\", \"Total/2\", \"Total/3\", \"Total/1\", \"Total/2\", \"Total/1\", \"Total/2\", \"Total/3\", \"Total/1\", \"Total/2\", \"Total/3\", \"Total/4\", \"Total/5\", \"Total/6\", \"Total/1\", \"Total/3\", \"Total/4\", \"Total/5\", \"Total/1\", \"Total/2\", \"Total/4\", \"Total/6\", \"Total/1\", \"Total/2\", \"Total/4\", \"Total/5\", \"Total/6\", \"Total/1\", \"Total/2\", \"Total/3\", \"Total/4\", \"Total/5\", \"Total/6\", \"Total/1\", \"Total/2\", \"Total/3\", \"Total/4\", \"Total/5\", \"Total/6\", \"Total/1\", \"Total/2\", \"Total/3\", \"Total/4\", \"Total/5\", \"Total/6\", \"Total/2\", \"Total/3\", \"Total/4\", \"Total/5\", \"Total/1\", \"Total/2\", \"Total/3\", \"Total/4\", \"Total/5\", \"Total/6\", \"Total/1\", \"Total/3\", \"Total/4\", \"Total/5\", \"Total/6\", \"Total/1\", \"Total/3\", \"Total/5\", \"Total/1\", \"Total/2\", \"Total/3\", \"Total/4\", \"Total/5\", \"Total/6\", \"Total/1\", \"Total/2\", \"Total/6\", \"Total\", \"Total\", \"Total\", \"Total\", \"Total\", \"Total\", \"\"], \"type\": \"treemap\", \"values\": [627.73, 607.18, 671.23, 418.48, 769.86, 390.49, 70.89, 55.92, 73.89, 68.9, 43.95, 39.96, 661.35, 729.85, 1154.39, 5.0, 719.86, 410.11, 87.15, 46.34, 43.04, 60.0, 60.0, 20.9, 30.9, 50.9, 1903.54, 1063.43, 2506.85, 1373.27, 1387.16, 1007.24, 62.24, 124.48, 62.24, 62.32, 391.65, 190.2, 774.91, 76.08, 86.01, 2959.22, 59.89, 2520.93, 247.03, 2578.0, 720.0, 4206.0, 1510.0, 1250.0, 1000.0, 4118.0, 4118.0, 4118.0, 4118.0, 4118.0, 4118.0, 218.16, 297.06, 500.89, 523.88, 427.0, 439.85, 1278.74, 19.49, 1452.87, 19.49, 102.0, 102.0, 102.0, 112.2, 112.2, 112.2, 6.25, 4.54, 15.99, 26.87, 23.99, 82.31, 64.34, 76.6, 165.08, 184.46, 166.67, 189.31, 183.99, 208.05, 1403.72, 1356.74, 429.77, 12644.98, 13800.039999999997, 13806.71, 10684.939999999999, 11718.230000000001, 8502.77, 71157.67]}],\n",
       "                        {\"coloraxis\": {\"colorbar\": {\"title\": {\"text\": \"Total\"}}, \"colorscale\": [[0.0, \"rgb(103,0,31)\"], [0.1, \"rgb(178,24,43)\"], [0.2, \"rgb(214,96,77)\"], [0.3, \"rgb(244,165,130)\"], [0.4, \"rgb(253,219,199)\"], [0.5, \"rgb(247,247,247)\"], [0.6, \"rgb(209,229,240)\"], [0.7, \"rgb(146,197,222)\"], [0.8, \"rgb(67,147,195)\"], [0.9, \"rgb(33,102,172)\"], [1.0, \"rgb(5,48,97)\"]]}, \"legend\": {\"tracegroupgap\": 0}, \"margin\": {\"t\": 60}, \"template\": {\"data\": {\"bar\": [{\"error_x\": {\"color\": \"#2a3f5f\"}, \"error_y\": {\"color\": \"#2a3f5f\"}, \"marker\": {\"line\": {\"color\": \"#E5ECF6\", \"width\": 0.5}}, \"type\": \"bar\"}], \"barpolar\": [{\"marker\": {\"line\": {\"color\": \"#E5ECF6\", \"width\": 0.5}}, \"type\": \"barpolar\"}], \"carpet\": [{\"aaxis\": {\"endlinecolor\": \"#2a3f5f\", \"gridcolor\": \"white\", \"linecolor\": \"white\", \"minorgridcolor\": \"white\", \"startlinecolor\": \"#2a3f5f\"}, \"baxis\": {\"endlinecolor\": \"#2a3f5f\", \"gridcolor\": \"white\", \"linecolor\": \"white\", \"minorgridcolor\": \"white\", \"startlinecolor\": \"#2a3f5f\"}, \"type\": \"carpet\"}], \"choropleth\": [{\"colorbar\": {\"outlinewidth\": 0, \"ticks\": \"\"}, \"type\": \"choropleth\"}], \"contour\": [{\"colorbar\": {\"outlinewidth\": 0, \"ticks\": \"\"}, \"colorscale\": [[0.0, \"#0d0887\"], [0.1111111111111111, \"#46039f\"], [0.2222222222222222, \"#7201a8\"], [0.3333333333333333, \"#9c179e\"], [0.4444444444444444, \"#bd3786\"], [0.5555555555555556, \"#d8576b\"], [0.6666666666666666, \"#ed7953\"], [0.7777777777777778, \"#fb9f3a\"], [0.8888888888888888, \"#fdca26\"], [1.0, \"#f0f921\"]], \"type\": \"contour\"}], \"contourcarpet\": [{\"colorbar\": {\"outlinewidth\": 0, \"ticks\": \"\"}, \"type\": \"contourcarpet\"}], \"heatmap\": [{\"colorbar\": {\"outlinewidth\": 0, \"ticks\": \"\"}, \"colorscale\": [[0.0, \"#0d0887\"], [0.1111111111111111, \"#46039f\"], [0.2222222222222222, \"#7201a8\"], [0.3333333333333333, \"#9c179e\"], [0.4444444444444444, \"#bd3786\"], [0.5555555555555556, \"#d8576b\"], [0.6666666666666666, \"#ed7953\"], [0.7777777777777778, \"#fb9f3a\"], [0.8888888888888888, \"#fdca26\"], [1.0, \"#f0f921\"]], \"type\": \"heatmap\"}], \"heatmapgl\": [{\"colorbar\": {\"outlinewidth\": 0, \"ticks\": \"\"}, \"colorscale\": [[0.0, \"#0d0887\"], [0.1111111111111111, \"#46039f\"], [0.2222222222222222, \"#7201a8\"], [0.3333333333333333, \"#9c179e\"], [0.4444444444444444, \"#bd3786\"], [0.5555555555555556, \"#d8576b\"], [0.6666666666666666, \"#ed7953\"], [0.7777777777777778, \"#fb9f3a\"], [0.8888888888888888, \"#fdca26\"], [1.0, \"#f0f921\"]], \"type\": \"heatmapgl\"}], \"histogram\": [{\"marker\": {\"colorbar\": {\"outlinewidth\": 0, \"ticks\": \"\"}}, \"type\": \"histogram\"}], \"histogram2d\": [{\"colorbar\": {\"outlinewidth\": 0, \"ticks\": \"\"}, \"colorscale\": [[0.0, \"#0d0887\"], [0.1111111111111111, \"#46039f\"], [0.2222222222222222, \"#7201a8\"], [0.3333333333333333, \"#9c179e\"], [0.4444444444444444, \"#bd3786\"], [0.5555555555555556, \"#d8576b\"], [0.6666666666666666, \"#ed7953\"], [0.7777777777777778, \"#fb9f3a\"], [0.8888888888888888, \"#fdca26\"], [1.0, \"#f0f921\"]], \"type\": \"histogram2d\"}], \"histogram2dcontour\": [{\"colorbar\": {\"outlinewidth\": 0, \"ticks\": \"\"}, \"colorscale\": [[0.0, \"#0d0887\"], [0.1111111111111111, \"#46039f\"], [0.2222222222222222, \"#7201a8\"], [0.3333333333333333, \"#9c179e\"], [0.4444444444444444, \"#bd3786\"], [0.5555555555555556, \"#d8576b\"], [0.6666666666666666, \"#ed7953\"], [0.7777777777777778, \"#fb9f3a\"], [0.8888888888888888, \"#fdca26\"], [1.0, \"#f0f921\"]], \"type\": \"histogram2dcontour\"}], \"mesh3d\": [{\"colorbar\": {\"outlinewidth\": 0, \"ticks\": \"\"}, \"type\": \"mesh3d\"}], \"parcoords\": [{\"line\": {\"colorbar\": {\"outlinewidth\": 0, \"ticks\": \"\"}}, \"type\": \"parcoords\"}], \"pie\": [{\"automargin\": true, \"type\": \"pie\"}], \"scatter\": [{\"marker\": {\"colorbar\": {\"outlinewidth\": 0, \"ticks\": \"\"}}, \"type\": \"scatter\"}], \"scatter3d\": [{\"line\": {\"colorbar\": {\"outlinewidth\": 0, \"ticks\": \"\"}}, \"marker\": {\"colorbar\": {\"outlinewidth\": 0, \"ticks\": \"\"}}, \"type\": \"scatter3d\"}], \"scattercarpet\": [{\"marker\": {\"colorbar\": {\"outlinewidth\": 0, \"ticks\": \"\"}}, \"type\": \"scattercarpet\"}], \"scattergeo\": [{\"marker\": {\"colorbar\": {\"outlinewidth\": 0, \"ticks\": \"\"}}, \"type\": \"scattergeo\"}], \"scattergl\": [{\"marker\": {\"colorbar\": {\"outlinewidth\": 0, \"ticks\": \"\"}}, \"type\": \"scattergl\"}], \"scattermapbox\": [{\"marker\": {\"colorbar\": {\"outlinewidth\": 0, \"ticks\": \"\"}}, \"type\": \"scattermapbox\"}], \"scatterpolar\": [{\"marker\": {\"colorbar\": {\"outlinewidth\": 0, \"ticks\": \"\"}}, \"type\": \"scatterpolar\"}], \"scatterpolargl\": [{\"marker\": {\"colorbar\": {\"outlinewidth\": 0, \"ticks\": \"\"}}, \"type\": \"scatterpolargl\"}], \"scatterternary\": [{\"marker\": {\"colorbar\": {\"outlinewidth\": 0, \"ticks\": \"\"}}, \"type\": \"scatterternary\"}], \"surface\": [{\"colorbar\": {\"outlinewidth\": 0, \"ticks\": \"\"}, \"colorscale\": [[0.0, \"#0d0887\"], [0.1111111111111111, \"#46039f\"], [0.2222222222222222, \"#7201a8\"], [0.3333333333333333, \"#9c179e\"], [0.4444444444444444, \"#bd3786\"], [0.5555555555555556, \"#d8576b\"], [0.6666666666666666, \"#ed7953\"], [0.7777777777777778, \"#fb9f3a\"], [0.8888888888888888, \"#fdca26\"], [1.0, \"#f0f921\"]], \"type\": \"surface\"}], \"table\": [{\"cells\": {\"fill\": {\"color\": \"#EBF0F8\"}, \"line\": {\"color\": \"white\"}}, \"header\": {\"fill\": {\"color\": \"#C8D4E3\"}, \"line\": {\"color\": \"white\"}}, \"type\": \"table\"}]}, \"layout\": {\"annotationdefaults\": {\"arrowcolor\": \"#2a3f5f\", \"arrowhead\": 0, \"arrowwidth\": 1}, \"coloraxis\": {\"colorbar\": {\"outlinewidth\": 0, \"ticks\": \"\"}}, \"colorscale\": {\"diverging\": [[0, \"#8e0152\"], [0.1, \"#c51b7d\"], [0.2, \"#de77ae\"], [0.3, \"#f1b6da\"], [0.4, \"#fde0ef\"], [0.5, \"#f7f7f7\"], [0.6, \"#e6f5d0\"], [0.7, \"#b8e186\"], [0.8, \"#7fbc41\"], [0.9, \"#4d9221\"], [1, \"#276419\"]], \"sequential\": [[0.0, \"#0d0887\"], [0.1111111111111111, \"#46039f\"], [0.2222222222222222, \"#7201a8\"], [0.3333333333333333, \"#9c179e\"], [0.4444444444444444, \"#bd3786\"], [0.5555555555555556, \"#d8576b\"], [0.6666666666666666, \"#ed7953\"], [0.7777777777777778, \"#fb9f3a\"], [0.8888888888888888, \"#fdca26\"], [1.0, \"#f0f921\"]], \"sequentialminus\": [[0.0, \"#0d0887\"], [0.1111111111111111, \"#46039f\"], [0.2222222222222222, \"#7201a8\"], [0.3333333333333333, \"#9c179e\"], [0.4444444444444444, \"#bd3786\"], [0.5555555555555556, \"#d8576b\"], [0.6666666666666666, \"#ed7953\"], [0.7777777777777778, \"#fb9f3a\"], [0.8888888888888888, \"#fdca26\"], [1.0, \"#f0f921\"]]}, \"colorway\": [\"#636efa\", \"#EF553B\", \"#00cc96\", \"#ab63fa\", \"#FFA15A\", \"#19d3f3\", \"#FF6692\", \"#B6E880\", \"#FF97FF\", \"#FECB52\"], \"font\": {\"color\": \"#2a3f5f\"}, \"geo\": {\"bgcolor\": \"white\", \"lakecolor\": \"white\", \"landcolor\": \"#E5ECF6\", \"showlakes\": true, \"showland\": true, \"subunitcolor\": \"white\"}, \"hoverlabel\": {\"align\": \"left\"}, \"hovermode\": \"closest\", \"mapbox\": {\"style\": \"light\"}, \"paper_bgcolor\": \"white\", \"plot_bgcolor\": \"#E5ECF6\", \"polar\": {\"angularaxis\": {\"gridcolor\": \"white\", \"linecolor\": \"white\", \"ticks\": \"\"}, \"bgcolor\": \"#E5ECF6\", \"radialaxis\": {\"gridcolor\": \"white\", \"linecolor\": \"white\", \"ticks\": \"\"}}, \"scene\": {\"xaxis\": {\"backgroundcolor\": \"#E5ECF6\", \"gridcolor\": \"white\", \"gridwidth\": 2, \"linecolor\": \"white\", \"showbackground\": true, \"ticks\": \"\", \"zerolinecolor\": \"white\"}, \"yaxis\": {\"backgroundcolor\": \"#E5ECF6\", \"gridcolor\": \"white\", \"gridwidth\": 2, \"linecolor\": \"white\", \"showbackground\": true, \"ticks\": \"\", \"zerolinecolor\": \"white\"}, \"zaxis\": {\"backgroundcolor\": \"#E5ECF6\", \"gridcolor\": \"white\", \"gridwidth\": 2, \"linecolor\": \"white\", \"showbackground\": true, \"ticks\": \"\", \"zerolinecolor\": \"white\"}}, \"shapedefaults\": {\"line\": {\"color\": \"#2a3f5f\"}}, \"ternary\": {\"aaxis\": {\"gridcolor\": \"white\", \"linecolor\": \"white\", \"ticks\": \"\"}, \"baxis\": {\"gridcolor\": \"white\", \"linecolor\": \"white\", \"ticks\": \"\"}, \"bgcolor\": \"#E5ECF6\", \"caxis\": {\"gridcolor\": \"white\", \"linecolor\": \"white\", \"ticks\": \"\"}}, \"title\": {\"x\": 0.05}, \"xaxis\": {\"automargin\": true, \"gridcolor\": \"white\", \"linecolor\": \"white\", \"ticks\": \"\", \"title\": {\"standoff\": 15}, \"zerolinecolor\": \"white\", \"zerolinewidth\": 2}, \"yaxis\": {\"automargin\": true, \"gridcolor\": \"white\", \"linecolor\": \"white\", \"ticks\": \"\", \"title\": {\"standoff\": 15}, \"zerolinecolor\": \"white\", \"zerolinewidth\": 2}}}},\n",
       "                        {\"responsive\": true}\n",
       "                    ).then(function(){\n",
       "                            \n",
       "var gd = document.getElementById('926d8c45-835e-4463-9b58-c62df1ed5709');\n",
       "var x = new MutationObserver(function (mutations, observer) {{\n",
       "        var display = window.getComputedStyle(gd).display;\n",
       "        if (!display || display === 'none') {{\n",
       "            console.log([gd, 'removed!']);\n",
       "            Plotly.purge(gd);\n",
       "            observer.disconnect();\n",
       "        }}\n",
       "}});\n",
       "\n",
       "// Listen for the removal of the full notebook cells\n",
       "var notebookContainer = gd.closest('#notebook-container');\n",
       "if (notebookContainer) {{\n",
       "    x.observe(notebookContainer, {childList: true});\n",
       "}}\n",
       "\n",
       "// Listen for the clearing of the current output cell\n",
       "var outputEl = gd.closest('.output');\n",
       "if (outputEl) {{\n",
       "    x.observe(outputEl, {childList: true});\n",
       "}}\n",
       "\n",
       "                        })\n",
       "                };\n",
       "                });\n",
       "            </script>\n",
       "        </div>"
      ]
     },
     "metadata": {},
     "output_type": "display_data"
    }
   ],
   "source": [
    "figTreeMap = px.treemap(\n",
    "    df,\n",
    "    path=['All', 'MONTH', 'CAT'],\n",
    "    values = 'Total',\n",
    "    color = 'Total',\n",
    "    color_continuous_scale='RdBu'\n",
    ")\n",
    "\n",
    "figTreeMap.show()"
   ]
  },
  {
   "cell_type": "code",
   "execution_count": 53,
   "metadata": {},
   "outputs": [],
   "source": [
    "import plotly.io as pio\n",
    "pio.write_html(figScatter, file='SpendingByCategoryScatter.html', auto_open=True)\n",
    "pio.write_html(figTreeMap, file='SpendingByCategoryTreeMap.html', auto_open=True)\n"
   ]
  },
  {
   "cell_type": "code",
   "execution_count": null,
   "metadata": {},
   "outputs": [],
   "source": []
  },
  {
   "cell_type": "code",
   "execution_count": 68,
   "metadata": {},
   "outputs": [
    {
     "data": {
      "application/vnd.plotly.v1+json": {
       "config": {
        "plotlyServerURL": "https://plot.ly"
       },
       "data": [
        {
         "customdata": [
          [
           1,
           "AMAZON",
           627.73
          ],
          [
           1,
           "AMAZON-VIDEO",
           70.89
          ],
          [
           1,
           "BEAN",
           661.35
          ],
          [
           1,
           "CAB",
           87.15
          ],
          [
           1,
           "CLEANER",
           60
          ],
          [
           1,
           "DRYCLEAN",
           20.9
          ],
          [
           1,
           "GROC/HOUSEHOLD",
           1903.54
          ],
          [
           1,
           "INSURANCE",
           62.24
          ],
          [
           1,
           "MEDICAL",
           391.65
          ],
          [
           1,
           "MISC",
           86.01
          ],
          [
           1,
           "NANNY",
           2578
          ],
          [
           1,
           "RENT",
           4118
          ],
          [
           1,
           "SEAMLESS",
           218.16
          ],
          [
           1,
           "STORAGE",
           102
          ],
          [
           1,
           "SUBSCRIPTIONS",
           6.25
          ],
          [
           1,
           "TBD",
           82.31
          ],
          [
           1,
           "UTILS",
           165.08
          ],
          [
           1,
           "VACA",
           1403.72
          ],
          [
           2,
           "AMAZON",
           607.18
          ],
          [
           2,
           "AMAZON-VIDEO",
           55.92
          ],
          [
           2,
           "BEAN",
           729.85
          ],
          [
           2,
           "CAB",
           46.34
          ],
          [
           2,
           "CLEANER",
           60
          ],
          [
           2,
           "DRYCLEAN",
           30.9
          ],
          [
           2,
           "GROC/HOUSEHOLD",
           1063.43
          ],
          [
           2,
           "MEDICAL",
           190.2
          ],
          [
           2,
           "MISC",
           2959.22
          ],
          [
           2,
           "NANNY",
           720
          ],
          [
           2,
           "RENT",
           4118
          ],
          [
           2,
           "SEAMLESS",
           297.06
          ],
          [
           2,
           "SHO",
           1278.74
          ],
          [
           2,
           "STORAGE",
           102
          ],
          [
           2,
           "UTILS",
           184.46
          ],
          [
           2,
           "VACA",
           1356.74
          ],
          [
           3,
           "AMAZON",
           671.23
          ],
          [
           3,
           "AMAZON-VIDEO",
           73.89
          ],
          [
           3,
           "BEAN",
           1154.39
          ],
          [
           3,
           "CAB",
           43.04
          ],
          [
           3,
           "DRYCLEAN",
           50.9
          ],
          [
           3,
           "GROC/HOUSEHOLD",
           2506.85
          ],
          [
           3,
           "INSURANCE",
           124.48
          ],
          [
           3,
           "NANNY",
           4206
          ],
          [
           3,
           "RENT",
           4118
          ],
          [
           3,
           "SEAMLESS",
           500.89
          ],
          [
           3,
           "SHO",
           19.49
          ],
          [
           3,
           "STORAGE",
           102
          ],
          [
           3,
           "SUBSCRIPTIONS",
           4.54
          ],
          [
           3,
           "TBD",
           64.34
          ],
          [
           3,
           "UTILS",
           166.67
          ],
          [
           4,
           "AMAZON",
           418.48
          ],
          [
           4,
           "AMAZON-VIDEO",
           68.9
          ],
          [
           4,
           "BEAN",
           5
          ],
          [
           4,
           "GROC/HOUSEHOLD",
           1373.27
          ],
          [
           4,
           "INSURANCE",
           62.24
          ],
          [
           4,
           "MEDICAL",
           774.91
          ],
          [
           4,
           "MISC",
           59.89
          ],
          [
           4,
           "NANNY",
           1510
          ],
          [
           4,
           "RENT",
           4118
          ],
          [
           4,
           "SEAMLESS",
           523.88
          ],
          [
           4,
           "SHO",
           1452.87
          ],
          [
           4,
           "STORAGE",
           112.2
          ],
          [
           4,
           "SUBSCRIPTIONS",
           15.99
          ],
          [
           4,
           "UTILS",
           189.31
          ],
          [
           5,
           "AMAZON",
           769.86
          ],
          [
           5,
           "AMAZON-VIDEO",
           43.95
          ],
          [
           5,
           "BEAN",
           719.86
          ],
          [
           5,
           "GROC/HOUSEHOLD",
           1387.16
          ],
          [
           5,
           "INSURANCE",
           62.32
          ],
          [
           5,
           "MISC",
           2520.93
          ],
          [
           5,
           "NANNY",
           1250
          ],
          [
           5,
           "RENT",
           4118
          ],
          [
           5,
           "SEAMLESS",
           427
          ],
          [
           5,
           "SHO",
           19.49
          ],
          [
           5,
           "STORAGE",
           112.2
          ],
          [
           5,
           "SUBSCRIPTIONS",
           26.87
          ],
          [
           5,
           "TBD",
           76.6
          ],
          [
           5,
           "UTILS",
           183.99
          ],
          [
           6,
           "AMAZON",
           390.49
          ],
          [
           6,
           "AMAZON-VIDEO",
           39.96
          ],
          [
           6,
           "BEAN",
           410.11
          ],
          [
           6,
           "GROC/HOUSEHOLD",
           1007.24
          ],
          [
           6,
           "MEDICAL",
           76.08
          ],
          [
           6,
           "MISC",
           247.03
          ],
          [
           6,
           "NANNY",
           1000
          ],
          [
           6,
           "RENT",
           4118
          ],
          [
           6,
           "SEAMLESS",
           439.85
          ],
          [
           6,
           "STORAGE",
           112.2
          ],
          [
           6,
           "SUBSCRIPTIONS",
           23.99
          ],
          [
           6,
           "UTILS",
           208.05
          ],
          [
           6,
           "VACA",
           429.77
          ]
         ],
         "hovertemplate": "<b>%{hovertext}</b><br><br>MONTH=%{customdata[0]}<br>CAT=%{customdata[1]}<br>Total=%{marker.color}<extra></extra>",
         "hovertext": [
          "AMAZON",
          "AMAZON-VIDEO",
          "BEAN",
          "CAB",
          "CLEANER",
          "DRYCLEAN",
          "GROC/HOUSEHOLD",
          "INSURANCE",
          "MEDICAL",
          "MISC",
          "NANNY",
          "RENT",
          "SEAMLESS",
          "STORAGE",
          "SUBSCRIPTIONS",
          "TBD",
          "UTILS",
          "VACA",
          "AMAZON",
          "AMAZON-VIDEO",
          "BEAN",
          "CAB",
          "CLEANER",
          "DRYCLEAN",
          "GROC/HOUSEHOLD",
          "MEDICAL",
          "MISC",
          "NANNY",
          "RENT",
          "SEAMLESS",
          "SHO",
          "STORAGE",
          "UTILS",
          "VACA",
          "AMAZON",
          "AMAZON-VIDEO",
          "BEAN",
          "CAB",
          "DRYCLEAN",
          "GROC/HOUSEHOLD",
          "INSURANCE",
          "NANNY",
          "RENT",
          "SEAMLESS",
          "SHO",
          "STORAGE",
          "SUBSCRIPTIONS",
          "TBD",
          "UTILS",
          "AMAZON",
          "AMAZON-VIDEO",
          "BEAN",
          "GROC/HOUSEHOLD",
          "INSURANCE",
          "MEDICAL",
          "MISC",
          "NANNY",
          "RENT",
          "SEAMLESS",
          "SHO",
          "STORAGE",
          "SUBSCRIPTIONS",
          "UTILS",
          "AMAZON",
          "AMAZON-VIDEO",
          "BEAN",
          "GROC/HOUSEHOLD",
          "INSURANCE",
          "MISC",
          "NANNY",
          "RENT",
          "SEAMLESS",
          "SHO",
          "STORAGE",
          "SUBSCRIPTIONS",
          "TBD",
          "UTILS",
          "AMAZON",
          "AMAZON-VIDEO",
          "BEAN",
          "GROC/HOUSEHOLD",
          "MEDICAL",
          "MISC",
          "NANNY",
          "RENT",
          "SEAMLESS",
          "STORAGE",
          "SUBSCRIPTIONS",
          "UTILS",
          "VACA"
         ],
         "legendgroup": "",
         "marker": {
          "color": [
           627.73,
           70.89,
           661.35,
           87.15,
           60,
           20.9,
           1903.54,
           62.24,
           391.65,
           86.01,
           2578,
           4118,
           218.16,
           102,
           6.25,
           82.31,
           165.08,
           1403.72,
           607.18,
           55.92,
           729.85,
           46.34,
           60,
           30.9,
           1063.43,
           190.2,
           2959.22,
           720,
           4118,
           297.06,
           1278.74,
           102,
           184.46,
           1356.74,
           671.23,
           73.89,
           1154.39,
           43.04,
           50.9,
           2506.85,
           124.48,
           4206,
           4118,
           500.89,
           19.49,
           102,
           4.54,
           64.34,
           166.67,
           418.48,
           68.9,
           5,
           1373.27,
           62.24,
           774.91,
           59.89,
           1510,
           4118,
           523.88,
           1452.87,
           112.2,
           15.99,
           189.31,
           769.86,
           43.95,
           719.86,
           1387.16,
           62.32,
           2520.93,
           1250,
           4118,
           427,
           19.49,
           112.2,
           26.87,
           76.6,
           183.99,
           390.49,
           39.96,
           410.11,
           1007.24,
           76.08,
           247.03,
           1000,
           4118,
           439.85,
           112.2,
           23.99,
           208.05,
           429.77
          ],
          "coloraxis": "coloraxis",
          "line": {
           "color": "Navy",
           "width": 1
          },
          "size": [
           627.73,
           70.89,
           661.35,
           87.15,
           60,
           20.9,
           1903.54,
           62.24,
           391.65,
           86.01,
           2578,
           4118,
           218.16,
           102,
           6.25,
           82.31,
           165.08,
           1403.72,
           607.18,
           55.92,
           729.85,
           46.34,
           60,
           30.9,
           1063.43,
           190.2,
           2959.22,
           720,
           4118,
           297.06,
           1278.74,
           102,
           184.46,
           1356.74,
           671.23,
           73.89,
           1154.39,
           43.04,
           50.9,
           2506.85,
           124.48,
           4206,
           4118,
           500.89,
           19.49,
           102,
           4.54,
           64.34,
           166.67,
           418.48,
           68.9,
           5,
           1373.27,
           62.24,
           774.91,
           59.89,
           1510,
           4118,
           523.88,
           1452.87,
           112.2,
           15.99,
           189.31,
           769.86,
           43.95,
           719.86,
           1387.16,
           62.32,
           2520.93,
           1250,
           4118,
           427,
           19.49,
           112.2,
           26.87,
           76.6,
           183.99,
           390.49,
           39.96,
           410.11,
           1007.24,
           76.08,
           247.03,
           1000,
           4118,
           439.85,
           112.2,
           23.99,
           208.05,
           429.77
          ],
          "sizemode": "area",
          "sizeref": 2.4,
          "symbol": "circle"
         },
         "mode": "markers",
         "name": "",
         "orientation": "h",
         "showlegend": false,
         "type": "scatter",
         "x": [
          1,
          1,
          1,
          1,
          1,
          1,
          1,
          1,
          1,
          1,
          1,
          1,
          1,
          1,
          1,
          1,
          1,
          1,
          2,
          2,
          2,
          2,
          2,
          2,
          2,
          2,
          2,
          2,
          2,
          2,
          2,
          2,
          2,
          2,
          3,
          3,
          3,
          3,
          3,
          3,
          3,
          3,
          3,
          3,
          3,
          3,
          3,
          3,
          3,
          4,
          4,
          4,
          4,
          4,
          4,
          4,
          4,
          4,
          4,
          4,
          4,
          4,
          4,
          5,
          5,
          5,
          5,
          5,
          5,
          5,
          5,
          5,
          5,
          5,
          5,
          5,
          5,
          6,
          6,
          6,
          6,
          6,
          6,
          6,
          6,
          6,
          6,
          6,
          6,
          6
         ],
         "xaxis": "x",
         "y": [
          "AMAZON",
          "AMAZON-VIDEO",
          "BEAN",
          "CAB",
          "CLEANER",
          "DRYCLEAN",
          "GROC/HOUSEHOLD",
          "INSURANCE",
          "MEDICAL",
          "MISC",
          "NANNY",
          "RENT",
          "SEAMLESS",
          "STORAGE",
          "SUBSCRIPTIONS",
          "TBD",
          "UTILS",
          "VACA",
          "AMAZON",
          "AMAZON-VIDEO",
          "BEAN",
          "CAB",
          "CLEANER",
          "DRYCLEAN",
          "GROC/HOUSEHOLD",
          "MEDICAL",
          "MISC",
          "NANNY",
          "RENT",
          "SEAMLESS",
          "SHO",
          "STORAGE",
          "UTILS",
          "VACA",
          "AMAZON",
          "AMAZON-VIDEO",
          "BEAN",
          "CAB",
          "DRYCLEAN",
          "GROC/HOUSEHOLD",
          "INSURANCE",
          "NANNY",
          "RENT",
          "SEAMLESS",
          "SHO",
          "STORAGE",
          "SUBSCRIPTIONS",
          "TBD",
          "UTILS",
          "AMAZON",
          "AMAZON-VIDEO",
          "BEAN",
          "GROC/HOUSEHOLD",
          "INSURANCE",
          "MEDICAL",
          "MISC",
          "NANNY",
          "RENT",
          "SEAMLESS",
          "SHO",
          "STORAGE",
          "SUBSCRIPTIONS",
          "UTILS",
          "AMAZON",
          "AMAZON-VIDEO",
          "BEAN",
          "GROC/HOUSEHOLD",
          "INSURANCE",
          "MISC",
          "NANNY",
          "RENT",
          "SEAMLESS",
          "SHO",
          "STORAGE",
          "SUBSCRIPTIONS",
          "TBD",
          "UTILS",
          "AMAZON",
          "AMAZON-VIDEO",
          "BEAN",
          "GROC/HOUSEHOLD",
          "MEDICAL",
          "MISC",
          "NANNY",
          "RENT",
          "SEAMLESS",
          "STORAGE",
          "SUBSCRIPTIONS",
          "UTILS",
          "VACA"
         ],
         "yaxis": "y"
        }
       ],
       "layout": {
        "annotations": [
         {
          "showarrow": false,
          "text": "Twitter: @_jphwang",
          "textangle": 0,
          "x": 0.9,
          "xref": "paper",
          "y": 1.02,
          "yref": "paper"
         }
        ],
        "coloraxis": {
         "cmax": 5000,
         "cmin": 0,
         "colorbar": {
          "len": 300,
          "lenmode": "pixels",
          "outlinecolor": "#909090",
          "outlinewidth": 1,
          "thickness": 15,
          "thicknessmode": "pixels",
          "title": {
           "text": "Spend $"
          },
          "y": 1,
          "yanchor": "top"
         },
         "colorscale": [
          [
           0,
           "rgb(49,54,149)"
          ],
          [
           0.1,
           "rgb(69,117,180)"
          ],
          [
           0.2,
           "rgb(116,173,209)"
          ],
          [
           0.3,
           "rgb(171,217,233)"
          ],
          [
           0.4,
           "rgb(224,243,248)"
          ],
          [
           0.5,
           "rgb(255,255,191)"
          ],
          [
           0.6,
           "rgb(254,224,144)"
          ],
          [
           0.7,
           "rgb(253,174,97)"
          ],
          [
           0.8,
           "rgb(244,109,67)"
          ],
          [
           0.9,
           "rgb(215,48,39)"
          ],
          [
           1,
           "rgb(165,0,38)"
          ]
         ]
        },
        "font": {
         "color": "#404040",
         "family": "Arial, Tahoma, Helvetica",
         "size": 10
        },
        "height": 500,
        "legend": {
         "itemsizing": "constant",
         "tracegroupgap": 0
        },
        "margin": {
         "t": 20
        },
        "paper_bgcolor": "white",
        "plot_bgcolor": "white",
        "template": {
         "data": {
          "bar": [
           {
            "error_x": {
             "color": "#2a3f5f"
            },
            "error_y": {
             "color": "#2a3f5f"
            },
            "marker": {
             "line": {
              "color": "#E5ECF6",
              "width": 0.5
             }
            },
            "type": "bar"
           }
          ],
          "barpolar": [
           {
            "marker": {
             "line": {
              "color": "#E5ECF6",
              "width": 0.5
             }
            },
            "type": "barpolar"
           }
          ],
          "carpet": [
           {
            "aaxis": {
             "endlinecolor": "#2a3f5f",
             "gridcolor": "white",
             "linecolor": "white",
             "minorgridcolor": "white",
             "startlinecolor": "#2a3f5f"
            },
            "baxis": {
             "endlinecolor": "#2a3f5f",
             "gridcolor": "white",
             "linecolor": "white",
             "minorgridcolor": "white",
             "startlinecolor": "#2a3f5f"
            },
            "type": "carpet"
           }
          ],
          "choropleth": [
           {
            "colorbar": {
             "outlinewidth": 0,
             "ticks": ""
            },
            "type": "choropleth"
           }
          ],
          "contour": [
           {
            "colorbar": {
             "outlinewidth": 0,
             "ticks": ""
            },
            "colorscale": [
             [
              0,
              "#0d0887"
             ],
             [
              0.1111111111111111,
              "#46039f"
             ],
             [
              0.2222222222222222,
              "#7201a8"
             ],
             [
              0.3333333333333333,
              "#9c179e"
             ],
             [
              0.4444444444444444,
              "#bd3786"
             ],
             [
              0.5555555555555556,
              "#d8576b"
             ],
             [
              0.6666666666666666,
              "#ed7953"
             ],
             [
              0.7777777777777778,
              "#fb9f3a"
             ],
             [
              0.8888888888888888,
              "#fdca26"
             ],
             [
              1,
              "#f0f921"
             ]
            ],
            "type": "contour"
           }
          ],
          "contourcarpet": [
           {
            "colorbar": {
             "outlinewidth": 0,
             "ticks": ""
            },
            "type": "contourcarpet"
           }
          ],
          "heatmap": [
           {
            "colorbar": {
             "outlinewidth": 0,
             "ticks": ""
            },
            "colorscale": [
             [
              0,
              "#0d0887"
             ],
             [
              0.1111111111111111,
              "#46039f"
             ],
             [
              0.2222222222222222,
              "#7201a8"
             ],
             [
              0.3333333333333333,
              "#9c179e"
             ],
             [
              0.4444444444444444,
              "#bd3786"
             ],
             [
              0.5555555555555556,
              "#d8576b"
             ],
             [
              0.6666666666666666,
              "#ed7953"
             ],
             [
              0.7777777777777778,
              "#fb9f3a"
             ],
             [
              0.8888888888888888,
              "#fdca26"
             ],
             [
              1,
              "#f0f921"
             ]
            ],
            "type": "heatmap"
           }
          ],
          "heatmapgl": [
           {
            "colorbar": {
             "outlinewidth": 0,
             "ticks": ""
            },
            "colorscale": [
             [
              0,
              "#0d0887"
             ],
             [
              0.1111111111111111,
              "#46039f"
             ],
             [
              0.2222222222222222,
              "#7201a8"
             ],
             [
              0.3333333333333333,
              "#9c179e"
             ],
             [
              0.4444444444444444,
              "#bd3786"
             ],
             [
              0.5555555555555556,
              "#d8576b"
             ],
             [
              0.6666666666666666,
              "#ed7953"
             ],
             [
              0.7777777777777778,
              "#fb9f3a"
             ],
             [
              0.8888888888888888,
              "#fdca26"
             ],
             [
              1,
              "#f0f921"
             ]
            ],
            "type": "heatmapgl"
           }
          ],
          "histogram": [
           {
            "marker": {
             "colorbar": {
              "outlinewidth": 0,
              "ticks": ""
             }
            },
            "type": "histogram"
           }
          ],
          "histogram2d": [
           {
            "colorbar": {
             "outlinewidth": 0,
             "ticks": ""
            },
            "colorscale": [
             [
              0,
              "#0d0887"
             ],
             [
              0.1111111111111111,
              "#46039f"
             ],
             [
              0.2222222222222222,
              "#7201a8"
             ],
             [
              0.3333333333333333,
              "#9c179e"
             ],
             [
              0.4444444444444444,
              "#bd3786"
             ],
             [
              0.5555555555555556,
              "#d8576b"
             ],
             [
              0.6666666666666666,
              "#ed7953"
             ],
             [
              0.7777777777777778,
              "#fb9f3a"
             ],
             [
              0.8888888888888888,
              "#fdca26"
             ],
             [
              1,
              "#f0f921"
             ]
            ],
            "type": "histogram2d"
           }
          ],
          "histogram2dcontour": [
           {
            "colorbar": {
             "outlinewidth": 0,
             "ticks": ""
            },
            "colorscale": [
             [
              0,
              "#0d0887"
             ],
             [
              0.1111111111111111,
              "#46039f"
             ],
             [
              0.2222222222222222,
              "#7201a8"
             ],
             [
              0.3333333333333333,
              "#9c179e"
             ],
             [
              0.4444444444444444,
              "#bd3786"
             ],
             [
              0.5555555555555556,
              "#d8576b"
             ],
             [
              0.6666666666666666,
              "#ed7953"
             ],
             [
              0.7777777777777778,
              "#fb9f3a"
             ],
             [
              0.8888888888888888,
              "#fdca26"
             ],
             [
              1,
              "#f0f921"
             ]
            ],
            "type": "histogram2dcontour"
           }
          ],
          "mesh3d": [
           {
            "colorbar": {
             "outlinewidth": 0,
             "ticks": ""
            },
            "type": "mesh3d"
           }
          ],
          "parcoords": [
           {
            "line": {
             "colorbar": {
              "outlinewidth": 0,
              "ticks": ""
             }
            },
            "type": "parcoords"
           }
          ],
          "pie": [
           {
            "automargin": true,
            "type": "pie"
           }
          ],
          "scatter": [
           {
            "marker": {
             "colorbar": {
              "outlinewidth": 0,
              "ticks": ""
             }
            },
            "type": "scatter"
           }
          ],
          "scatter3d": [
           {
            "line": {
             "colorbar": {
              "outlinewidth": 0,
              "ticks": ""
             }
            },
            "marker": {
             "colorbar": {
              "outlinewidth": 0,
              "ticks": ""
             }
            },
            "type": "scatter3d"
           }
          ],
          "scattercarpet": [
           {
            "marker": {
             "colorbar": {
              "outlinewidth": 0,
              "ticks": ""
             }
            },
            "type": "scattercarpet"
           }
          ],
          "scattergeo": [
           {
            "marker": {
             "colorbar": {
              "outlinewidth": 0,
              "ticks": ""
             }
            },
            "type": "scattergeo"
           }
          ],
          "scattergl": [
           {
            "marker": {
             "colorbar": {
              "outlinewidth": 0,
              "ticks": ""
             }
            },
            "type": "scattergl"
           }
          ],
          "scattermapbox": [
           {
            "marker": {
             "colorbar": {
              "outlinewidth": 0,
              "ticks": ""
             }
            },
            "type": "scattermapbox"
           }
          ],
          "scatterpolar": [
           {
            "marker": {
             "colorbar": {
              "outlinewidth": 0,
              "ticks": ""
             }
            },
            "type": "scatterpolar"
           }
          ],
          "scatterpolargl": [
           {
            "marker": {
             "colorbar": {
              "outlinewidth": 0,
              "ticks": ""
             }
            },
            "type": "scatterpolargl"
           }
          ],
          "scatterternary": [
           {
            "marker": {
             "colorbar": {
              "outlinewidth": 0,
              "ticks": ""
             }
            },
            "type": "scatterternary"
           }
          ],
          "surface": [
           {
            "colorbar": {
             "outlinewidth": 0,
             "ticks": ""
            },
            "colorscale": [
             [
              0,
              "#0d0887"
             ],
             [
              0.1111111111111111,
              "#46039f"
             ],
             [
              0.2222222222222222,
              "#7201a8"
             ],
             [
              0.3333333333333333,
              "#9c179e"
             ],
             [
              0.4444444444444444,
              "#bd3786"
             ],
             [
              0.5555555555555556,
              "#d8576b"
             ],
             [
              0.6666666666666666,
              "#ed7953"
             ],
             [
              0.7777777777777778,
              "#fb9f3a"
             ],
             [
              0.8888888888888888,
              "#fdca26"
             ],
             [
              1,
              "#f0f921"
             ]
            ],
            "type": "surface"
           }
          ],
          "table": [
           {
            "cells": {
             "fill": {
              "color": "#EBF0F8"
             },
             "line": {
              "color": "white"
             }
            },
            "header": {
             "fill": {
              "color": "#C8D4E3"
             },
             "line": {
              "color": "white"
             }
            },
            "type": "table"
           }
          ]
         },
         "layout": {
          "annotationdefaults": {
           "arrowcolor": "#2a3f5f",
           "arrowhead": 0,
           "arrowwidth": 1
          },
          "coloraxis": {
           "colorbar": {
            "outlinewidth": 0,
            "ticks": ""
           }
          },
          "colorscale": {
           "diverging": [
            [
             0,
             "#8e0152"
            ],
            [
             0.1,
             "#c51b7d"
            ],
            [
             0.2,
             "#de77ae"
            ],
            [
             0.3,
             "#f1b6da"
            ],
            [
             0.4,
             "#fde0ef"
            ],
            [
             0.5,
             "#f7f7f7"
            ],
            [
             0.6,
             "#e6f5d0"
            ],
            [
             0.7,
             "#b8e186"
            ],
            [
             0.8,
             "#7fbc41"
            ],
            [
             0.9,
             "#4d9221"
            ],
            [
             1,
             "#276419"
            ]
           ],
           "sequential": [
            [
             0,
             "#0d0887"
            ],
            [
             0.1111111111111111,
             "#46039f"
            ],
            [
             0.2222222222222222,
             "#7201a8"
            ],
            [
             0.3333333333333333,
             "#9c179e"
            ],
            [
             0.4444444444444444,
             "#bd3786"
            ],
            [
             0.5555555555555556,
             "#d8576b"
            ],
            [
             0.6666666666666666,
             "#ed7953"
            ],
            [
             0.7777777777777778,
             "#fb9f3a"
            ],
            [
             0.8888888888888888,
             "#fdca26"
            ],
            [
             1,
             "#f0f921"
            ]
           ],
           "sequentialminus": [
            [
             0,
             "#0d0887"
            ],
            [
             0.1111111111111111,
             "#46039f"
            ],
            [
             0.2222222222222222,
             "#7201a8"
            ],
            [
             0.3333333333333333,
             "#9c179e"
            ],
            [
             0.4444444444444444,
             "#bd3786"
            ],
            [
             0.5555555555555556,
             "#d8576b"
            ],
            [
             0.6666666666666666,
             "#ed7953"
            ],
            [
             0.7777777777777778,
             "#fb9f3a"
            ],
            [
             0.8888888888888888,
             "#fdca26"
            ],
            [
             1,
             "#f0f921"
            ]
           ]
          },
          "colorway": [
           "#636efa",
           "#EF553B",
           "#00cc96",
           "#ab63fa",
           "#FFA15A",
           "#19d3f3",
           "#FF6692",
           "#B6E880",
           "#FF97FF",
           "#FECB52"
          ],
          "font": {
           "color": "#2a3f5f"
          },
          "geo": {
           "bgcolor": "white",
           "lakecolor": "white",
           "landcolor": "#E5ECF6",
           "showlakes": true,
           "showland": true,
           "subunitcolor": "white"
          },
          "hoverlabel": {
           "align": "left"
          },
          "hovermode": "closest",
          "mapbox": {
           "style": "light"
          },
          "paper_bgcolor": "white",
          "plot_bgcolor": "#E5ECF6",
          "polar": {
           "angularaxis": {
            "gridcolor": "white",
            "linecolor": "white",
            "ticks": ""
           },
           "bgcolor": "#E5ECF6",
           "radialaxis": {
            "gridcolor": "white",
            "linecolor": "white",
            "ticks": ""
           }
          },
          "scene": {
           "xaxis": {
            "backgroundcolor": "#E5ECF6",
            "gridcolor": "white",
            "gridwidth": 2,
            "linecolor": "white",
            "showbackground": true,
            "ticks": "",
            "zerolinecolor": "white"
           },
           "yaxis": {
            "backgroundcolor": "#E5ECF6",
            "gridcolor": "white",
            "gridwidth": 2,
            "linecolor": "white",
            "showbackground": true,
            "ticks": "",
            "zerolinecolor": "white"
           },
           "zaxis": {
            "backgroundcolor": "#E5ECF6",
            "gridcolor": "white",
            "gridwidth": 2,
            "linecolor": "white",
            "showbackground": true,
            "ticks": "",
            "zerolinecolor": "white"
           }
          },
          "shapedefaults": {
           "line": {
            "color": "#2a3f5f"
           }
          },
          "ternary": {
           "aaxis": {
            "gridcolor": "white",
            "linecolor": "white",
            "ticks": ""
           },
           "baxis": {
            "gridcolor": "white",
            "linecolor": "white",
            "ticks": ""
           },
           "bgcolor": "#E5ECF6",
           "caxis": {
            "gridcolor": "white",
            "linecolor": "white",
            "ticks": ""
           }
          },
          "title": {
           "x": 0.05
          },
          "xaxis": {
           "automargin": true,
           "gridcolor": "white",
           "linecolor": "white",
           "ticks": "",
           "title": {
            "standoff": 15
           },
           "zerolinecolor": "white",
           "zerolinewidth": 2
          },
          "yaxis": {
           "automargin": true,
           "gridcolor": "white",
           "linecolor": "white",
           "ticks": "",
           "title": {
            "standoff": 15
           },
           "zerolinecolor": "white",
           "zerolinewidth": 2
          }
         }
        },
        "width": 1250,
        "xaxis": {
         "anchor": "y",
         "domain": [
          0,
          1
         ],
         "fixedrange": true,
         "gridcolor": "LightGray",
         "gridwidth": 1,
         "range": [
          0,
          6
         ],
         "showgrid": true,
         "title": {
          "text": "CATEGORY"
         }
        },
        "yaxis": {
         "anchor": "x",
         "domain": [
          0,
          1
         ],
         "fixedrange": true,
         "gridcolor": "LightGray",
         "gridwidth": 1,
         "range": [
          -1,
          19
         ],
         "showgrid": true,
         "tickson": "boundaries",
         "title": {
          "text": "MONTH"
         }
        }
       }
      },
      "text/html": [
       "<div>\n",
       "        \n",
       "        \n",
       "            <div id=\"14ed14f2-9642-42f1-8880-be810aaf8531\" class=\"plotly-graph-div\" style=\"height:500px; width:1250px;\"></div>\n",
       "            <script type=\"text/javascript\">\n",
       "                require([\"plotly\"], function(Plotly) {\n",
       "                    window.PLOTLYENV=window.PLOTLYENV || {};\n",
       "                    \n",
       "                if (document.getElementById(\"14ed14f2-9642-42f1-8880-be810aaf8531\")) {\n",
       "                    Plotly.newPlot(\n",
       "                        '14ed14f2-9642-42f1-8880-be810aaf8531',\n",
       "                        [{\"customdata\": [[1, \"AMAZON\", 627.73], [1, \"AMAZON-VIDEO\", 70.89], [1, \"BEAN\", 661.35], [1, \"CAB\", 87.15], [1, \"CLEANER\", 60.0], [1, \"DRYCLEAN\", 20.9], [1, \"GROC/HOUSEHOLD\", 1903.54], [1, \"INSURANCE\", 62.24], [1, \"MEDICAL\", 391.65], [1, \"MISC\", 86.01], [1, \"NANNY\", 2578.0], [1, \"RENT\", 4118.0], [1, \"SEAMLESS\", 218.16], [1, \"STORAGE\", 102.0], [1, \"SUBSCRIPTIONS\", 6.25], [1, \"TBD\", 82.31], [1, \"UTILS\", 165.08], [1, \"VACA\", 1403.72], [2, \"AMAZON\", 607.18], [2, \"AMAZON-VIDEO\", 55.92], [2, \"BEAN\", 729.85], [2, \"CAB\", 46.34], [2, \"CLEANER\", 60.0], [2, \"DRYCLEAN\", 30.9], [2, \"GROC/HOUSEHOLD\", 1063.43], [2, \"MEDICAL\", 190.2], [2, \"MISC\", 2959.22], [2, \"NANNY\", 720.0], [2, \"RENT\", 4118.0], [2, \"SEAMLESS\", 297.06], [2, \"SHO\", 1278.74], [2, \"STORAGE\", 102.0], [2, \"UTILS\", 184.46], [2, \"VACA\", 1356.74], [3, \"AMAZON\", 671.23], [3, \"AMAZON-VIDEO\", 73.89], [3, \"BEAN\", 1154.39], [3, \"CAB\", 43.04], [3, \"DRYCLEAN\", 50.9], [3, \"GROC/HOUSEHOLD\", 2506.85], [3, \"INSURANCE\", 124.48], [3, \"NANNY\", 4206.0], [3, \"RENT\", 4118.0], [3, \"SEAMLESS\", 500.89], [3, \"SHO\", 19.49], [3, \"STORAGE\", 102.0], [3, \"SUBSCRIPTIONS\", 4.54], [3, \"TBD\", 64.34], [3, \"UTILS\", 166.67], [4, \"AMAZON\", 418.48], [4, \"AMAZON-VIDEO\", 68.9], [4, \"BEAN\", 5.0], [4, \"GROC/HOUSEHOLD\", 1373.27], [4, \"INSURANCE\", 62.24], [4, \"MEDICAL\", 774.91], [4, \"MISC\", 59.89], [4, \"NANNY\", 1510.0], [4, \"RENT\", 4118.0], [4, \"SEAMLESS\", 523.88], [4, \"SHO\", 1452.87], [4, \"STORAGE\", 112.2], [4, \"SUBSCRIPTIONS\", 15.99], [4, \"UTILS\", 189.31], [5, \"AMAZON\", 769.86], [5, \"AMAZON-VIDEO\", 43.95], [5, \"BEAN\", 719.86], [5, \"GROC/HOUSEHOLD\", 1387.16], [5, \"INSURANCE\", 62.32], [5, \"MISC\", 2520.93], [5, \"NANNY\", 1250.0], [5, \"RENT\", 4118.0], [5, \"SEAMLESS\", 427.0], [5, \"SHO\", 19.49], [5, \"STORAGE\", 112.2], [5, \"SUBSCRIPTIONS\", 26.87], [5, \"TBD\", 76.6], [5, \"UTILS\", 183.99], [6, \"AMAZON\", 390.49], [6, \"AMAZON-VIDEO\", 39.96], [6, \"BEAN\", 410.11], [6, \"GROC/HOUSEHOLD\", 1007.24], [6, \"MEDICAL\", 76.08], [6, \"MISC\", 247.03], [6, \"NANNY\", 1000.0], [6, \"RENT\", 4118.0], [6, \"SEAMLESS\", 439.85], [6, \"STORAGE\", 112.2], [6, \"SUBSCRIPTIONS\", 23.99], [6, \"UTILS\", 208.05], [6, \"VACA\", 429.77]], \"hovertemplate\": \"<b>%{hovertext}</b><br><br>MONTH=%{customdata[0]}<br>CAT=%{customdata[1]}<br>Total=%{marker.color}<extra></extra>\", \"hovertext\": [\"AMAZON\", \"AMAZON-VIDEO\", \"BEAN\", \"CAB\", \"CLEANER\", \"DRYCLEAN\", \"GROC/HOUSEHOLD\", \"INSURANCE\", \"MEDICAL\", \"MISC\", \"NANNY\", \"RENT\", \"SEAMLESS\", \"STORAGE\", \"SUBSCRIPTIONS\", \"TBD\", \"UTILS\", \"VACA\", \"AMAZON\", \"AMAZON-VIDEO\", \"BEAN\", \"CAB\", \"CLEANER\", \"DRYCLEAN\", \"GROC/HOUSEHOLD\", \"MEDICAL\", \"MISC\", \"NANNY\", \"RENT\", \"SEAMLESS\", \"SHO\", \"STORAGE\", \"UTILS\", \"VACA\", \"AMAZON\", \"AMAZON-VIDEO\", \"BEAN\", \"CAB\", \"DRYCLEAN\", \"GROC/HOUSEHOLD\", \"INSURANCE\", \"NANNY\", \"RENT\", \"SEAMLESS\", \"SHO\", \"STORAGE\", \"SUBSCRIPTIONS\", \"TBD\", \"UTILS\", \"AMAZON\", \"AMAZON-VIDEO\", \"BEAN\", \"GROC/HOUSEHOLD\", \"INSURANCE\", \"MEDICAL\", \"MISC\", \"NANNY\", \"RENT\", \"SEAMLESS\", \"SHO\", \"STORAGE\", \"SUBSCRIPTIONS\", \"UTILS\", \"AMAZON\", \"AMAZON-VIDEO\", \"BEAN\", \"GROC/HOUSEHOLD\", \"INSURANCE\", \"MISC\", \"NANNY\", \"RENT\", \"SEAMLESS\", \"SHO\", \"STORAGE\", \"SUBSCRIPTIONS\", \"TBD\", \"UTILS\", \"AMAZON\", \"AMAZON-VIDEO\", \"BEAN\", \"GROC/HOUSEHOLD\", \"MEDICAL\", \"MISC\", \"NANNY\", \"RENT\", \"SEAMLESS\", \"STORAGE\", \"SUBSCRIPTIONS\", \"UTILS\", \"VACA\"], \"legendgroup\": \"\", \"marker\": {\"color\": [627.73, 70.89, 661.35, 87.15, 60.0, 20.9, 1903.54, 62.24, 391.65, 86.01, 2578.0, 4118.0, 218.16, 102.0, 6.25, 82.31, 165.08, 1403.72, 607.18, 55.92, 729.85, 46.34, 60.0, 30.9, 1063.43, 190.2, 2959.22, 720.0, 4118.0, 297.06, 1278.74, 102.0, 184.46, 1356.74, 671.23, 73.89, 1154.39, 43.04, 50.9, 2506.85, 124.48, 4206.0, 4118.0, 500.89, 19.49, 102.0, 4.54, 64.34, 166.67, 418.48, 68.9, 5.0, 1373.27, 62.24, 774.91, 59.89, 1510.0, 4118.0, 523.88, 1452.87, 112.2, 15.99, 189.31, 769.86, 43.95, 719.86, 1387.16, 62.32, 2520.93, 1250.0, 4118.0, 427.0, 19.49, 112.2, 26.87, 76.6, 183.99, 390.49, 39.96, 410.11, 1007.24, 76.08, 247.03, 1000.0, 4118.0, 439.85, 112.2, 23.99, 208.05, 429.77], \"coloraxis\": \"coloraxis\", \"line\": {\"color\": \"Navy\", \"width\": 1}, \"size\": [627.73, 70.89, 661.35, 87.15, 60.0, 20.9, 1903.54, 62.24, 391.65, 86.01, 2578.0, 4118.0, 218.16, 102.0, 6.25, 82.31, 165.08, 1403.72, 607.18, 55.92, 729.85, 46.34, 60.0, 30.9, 1063.43, 190.2, 2959.22, 720.0, 4118.0, 297.06, 1278.74, 102.0, 184.46, 1356.74, 671.23, 73.89, 1154.39, 43.04, 50.9, 2506.85, 124.48, 4206.0, 4118.0, 500.89, 19.49, 102.0, 4.54, 64.34, 166.67, 418.48, 68.9, 5.0, 1373.27, 62.24, 774.91, 59.89, 1510.0, 4118.0, 523.88, 1452.87, 112.2, 15.99, 189.31, 769.86, 43.95, 719.86, 1387.16, 62.32, 2520.93, 1250.0, 4118.0, 427.0, 19.49, 112.2, 26.87, 76.6, 183.99, 390.49, 39.96, 410.11, 1007.24, 76.08, 247.03, 1000.0, 4118.0, 439.85, 112.2, 23.99, 208.05, 429.77], \"sizemode\": \"area\", \"sizeref\": 2.4, \"symbol\": \"circle\"}, \"mode\": \"markers\", \"name\": \"\", \"orientation\": \"h\", \"showlegend\": false, \"type\": \"scatter\", \"x\": [1, 1, 1, 1, 1, 1, 1, 1, 1, 1, 1, 1, 1, 1, 1, 1, 1, 1, 2, 2, 2, 2, 2, 2, 2, 2, 2, 2, 2, 2, 2, 2, 2, 2, 3, 3, 3, 3, 3, 3, 3, 3, 3, 3, 3, 3, 3, 3, 3, 4, 4, 4, 4, 4, 4, 4, 4, 4, 4, 4, 4, 4, 4, 5, 5, 5, 5, 5, 5, 5, 5, 5, 5, 5, 5, 5, 5, 6, 6, 6, 6, 6, 6, 6, 6, 6, 6, 6, 6, 6], \"xaxis\": \"x\", \"y\": [\"AMAZON\", \"AMAZON-VIDEO\", \"BEAN\", \"CAB\", \"CLEANER\", \"DRYCLEAN\", \"GROC/HOUSEHOLD\", \"INSURANCE\", \"MEDICAL\", \"MISC\", \"NANNY\", \"RENT\", \"SEAMLESS\", \"STORAGE\", \"SUBSCRIPTIONS\", \"TBD\", \"UTILS\", \"VACA\", \"AMAZON\", \"AMAZON-VIDEO\", \"BEAN\", \"CAB\", \"CLEANER\", \"DRYCLEAN\", \"GROC/HOUSEHOLD\", \"MEDICAL\", \"MISC\", \"NANNY\", \"RENT\", \"SEAMLESS\", \"SHO\", \"STORAGE\", \"UTILS\", \"VACA\", \"AMAZON\", \"AMAZON-VIDEO\", \"BEAN\", \"CAB\", \"DRYCLEAN\", \"GROC/HOUSEHOLD\", \"INSURANCE\", \"NANNY\", \"RENT\", \"SEAMLESS\", \"SHO\", \"STORAGE\", \"SUBSCRIPTIONS\", \"TBD\", \"UTILS\", \"AMAZON\", \"AMAZON-VIDEO\", \"BEAN\", \"GROC/HOUSEHOLD\", \"INSURANCE\", \"MEDICAL\", \"MISC\", \"NANNY\", \"RENT\", \"SEAMLESS\", \"SHO\", \"STORAGE\", \"SUBSCRIPTIONS\", \"UTILS\", \"AMAZON\", \"AMAZON-VIDEO\", \"BEAN\", \"GROC/HOUSEHOLD\", \"INSURANCE\", \"MISC\", \"NANNY\", \"RENT\", \"SEAMLESS\", \"SHO\", \"STORAGE\", \"SUBSCRIPTIONS\", \"TBD\", \"UTILS\", \"AMAZON\", \"AMAZON-VIDEO\", \"BEAN\", \"GROC/HOUSEHOLD\", \"MEDICAL\", \"MISC\", \"NANNY\", \"RENT\", \"SEAMLESS\", \"STORAGE\", \"SUBSCRIPTIONS\", \"UTILS\", \"VACA\"], \"yaxis\": \"y\"}],\n",
       "                        {\"annotations\": [{\"showarrow\": false, \"text\": \"Twitter: @_jphwang\", \"textangle\": 0, \"x\": 0.9, \"xref\": \"paper\", \"y\": 1.02, \"yref\": \"paper\"}], \"coloraxis\": {\"cmax\": 5000, \"cmin\": 0, \"colorbar\": {\"len\": 300, \"lenmode\": \"pixels\", \"outlinecolor\": \"#909090\", \"outlinewidth\": 1, \"thickness\": 15, \"thicknessmode\": \"pixels\", \"title\": {\"text\": \"Spend $\"}, \"y\": 1, \"yanchor\": \"top\"}, \"colorscale\": [[0.0, \"rgb(49,54,149)\"], [0.1, \"rgb(69,117,180)\"], [0.2, \"rgb(116,173,209)\"], [0.3, \"rgb(171,217,233)\"], [0.4, \"rgb(224,243,248)\"], [0.5, \"rgb(255,255,191)\"], [0.6, \"rgb(254,224,144)\"], [0.7, \"rgb(253,174,97)\"], [0.8, \"rgb(244,109,67)\"], [0.9, \"rgb(215,48,39)\"], [1.0, \"rgb(165,0,38)\"]]}, \"font\": {\"color\": \"#404040\", \"family\": \"Arial, Tahoma, Helvetica\", \"size\": 10}, \"height\": 500, \"legend\": {\"itemsizing\": \"constant\", \"tracegroupgap\": 0}, \"margin\": {\"t\": 20}, \"paper_bgcolor\": \"white\", \"plot_bgcolor\": \"white\", \"template\": {\"data\": {\"bar\": [{\"error_x\": {\"color\": \"#2a3f5f\"}, \"error_y\": {\"color\": \"#2a3f5f\"}, \"marker\": {\"line\": {\"color\": \"#E5ECF6\", \"width\": 0.5}}, \"type\": \"bar\"}], \"barpolar\": [{\"marker\": {\"line\": {\"color\": \"#E5ECF6\", \"width\": 0.5}}, \"type\": \"barpolar\"}], \"carpet\": [{\"aaxis\": {\"endlinecolor\": \"#2a3f5f\", \"gridcolor\": \"white\", \"linecolor\": \"white\", \"minorgridcolor\": \"white\", \"startlinecolor\": \"#2a3f5f\"}, \"baxis\": {\"endlinecolor\": \"#2a3f5f\", \"gridcolor\": \"white\", \"linecolor\": \"white\", \"minorgridcolor\": \"white\", \"startlinecolor\": \"#2a3f5f\"}, \"type\": \"carpet\"}], \"choropleth\": [{\"colorbar\": {\"outlinewidth\": 0, \"ticks\": \"\"}, \"type\": \"choropleth\"}], \"contour\": [{\"colorbar\": {\"outlinewidth\": 0, \"ticks\": \"\"}, \"colorscale\": [[0.0, \"#0d0887\"], [0.1111111111111111, \"#46039f\"], [0.2222222222222222, \"#7201a8\"], [0.3333333333333333, \"#9c179e\"], [0.4444444444444444, \"#bd3786\"], [0.5555555555555556, \"#d8576b\"], [0.6666666666666666, \"#ed7953\"], [0.7777777777777778, \"#fb9f3a\"], [0.8888888888888888, \"#fdca26\"], [1.0, \"#f0f921\"]], \"type\": \"contour\"}], \"contourcarpet\": [{\"colorbar\": {\"outlinewidth\": 0, \"ticks\": \"\"}, \"type\": \"contourcarpet\"}], \"heatmap\": [{\"colorbar\": {\"outlinewidth\": 0, \"ticks\": \"\"}, \"colorscale\": [[0.0, \"#0d0887\"], [0.1111111111111111, \"#46039f\"], [0.2222222222222222, \"#7201a8\"], [0.3333333333333333, \"#9c179e\"], [0.4444444444444444, \"#bd3786\"], [0.5555555555555556, \"#d8576b\"], [0.6666666666666666, \"#ed7953\"], [0.7777777777777778, \"#fb9f3a\"], [0.8888888888888888, \"#fdca26\"], [1.0, \"#f0f921\"]], \"type\": \"heatmap\"}], \"heatmapgl\": [{\"colorbar\": {\"outlinewidth\": 0, \"ticks\": \"\"}, \"colorscale\": [[0.0, \"#0d0887\"], [0.1111111111111111, \"#46039f\"], [0.2222222222222222, \"#7201a8\"], [0.3333333333333333, \"#9c179e\"], [0.4444444444444444, \"#bd3786\"], [0.5555555555555556, \"#d8576b\"], [0.6666666666666666, \"#ed7953\"], [0.7777777777777778, \"#fb9f3a\"], [0.8888888888888888, \"#fdca26\"], [1.0, \"#f0f921\"]], \"type\": \"heatmapgl\"}], \"histogram\": [{\"marker\": {\"colorbar\": {\"outlinewidth\": 0, \"ticks\": \"\"}}, \"type\": \"histogram\"}], \"histogram2d\": [{\"colorbar\": {\"outlinewidth\": 0, \"ticks\": \"\"}, \"colorscale\": [[0.0, \"#0d0887\"], [0.1111111111111111, \"#46039f\"], [0.2222222222222222, \"#7201a8\"], [0.3333333333333333, \"#9c179e\"], [0.4444444444444444, \"#bd3786\"], [0.5555555555555556, \"#d8576b\"], [0.6666666666666666, \"#ed7953\"], [0.7777777777777778, \"#fb9f3a\"], [0.8888888888888888, \"#fdca26\"], [1.0, \"#f0f921\"]], \"type\": \"histogram2d\"}], \"histogram2dcontour\": [{\"colorbar\": {\"outlinewidth\": 0, \"ticks\": \"\"}, \"colorscale\": [[0.0, \"#0d0887\"], [0.1111111111111111, \"#46039f\"], [0.2222222222222222, \"#7201a8\"], [0.3333333333333333, \"#9c179e\"], [0.4444444444444444, \"#bd3786\"], [0.5555555555555556, \"#d8576b\"], [0.6666666666666666, \"#ed7953\"], [0.7777777777777778, \"#fb9f3a\"], [0.8888888888888888, \"#fdca26\"], [1.0, \"#f0f921\"]], \"type\": \"histogram2dcontour\"}], \"mesh3d\": [{\"colorbar\": {\"outlinewidth\": 0, \"ticks\": \"\"}, \"type\": \"mesh3d\"}], \"parcoords\": [{\"line\": {\"colorbar\": {\"outlinewidth\": 0, \"ticks\": \"\"}}, \"type\": \"parcoords\"}], \"pie\": [{\"automargin\": true, \"type\": \"pie\"}], \"scatter\": [{\"marker\": {\"colorbar\": {\"outlinewidth\": 0, \"ticks\": \"\"}}, \"type\": \"scatter\"}], \"scatter3d\": [{\"line\": {\"colorbar\": {\"outlinewidth\": 0, \"ticks\": \"\"}}, \"marker\": {\"colorbar\": {\"outlinewidth\": 0, \"ticks\": \"\"}}, \"type\": \"scatter3d\"}], \"scattercarpet\": [{\"marker\": {\"colorbar\": {\"outlinewidth\": 0, \"ticks\": \"\"}}, \"type\": \"scattercarpet\"}], \"scattergeo\": [{\"marker\": {\"colorbar\": {\"outlinewidth\": 0, \"ticks\": \"\"}}, \"type\": \"scattergeo\"}], \"scattergl\": [{\"marker\": {\"colorbar\": {\"outlinewidth\": 0, \"ticks\": \"\"}}, \"type\": \"scattergl\"}], \"scattermapbox\": [{\"marker\": {\"colorbar\": {\"outlinewidth\": 0, \"ticks\": \"\"}}, \"type\": \"scattermapbox\"}], \"scatterpolar\": [{\"marker\": {\"colorbar\": {\"outlinewidth\": 0, \"ticks\": \"\"}}, \"type\": \"scatterpolar\"}], \"scatterpolargl\": [{\"marker\": {\"colorbar\": {\"outlinewidth\": 0, \"ticks\": \"\"}}, \"type\": \"scatterpolargl\"}], \"scatterternary\": [{\"marker\": {\"colorbar\": {\"outlinewidth\": 0, \"ticks\": \"\"}}, \"type\": \"scatterternary\"}], \"surface\": [{\"colorbar\": {\"outlinewidth\": 0, \"ticks\": \"\"}, \"colorscale\": [[0.0, \"#0d0887\"], [0.1111111111111111, \"#46039f\"], [0.2222222222222222, \"#7201a8\"], [0.3333333333333333, \"#9c179e\"], [0.4444444444444444, \"#bd3786\"], [0.5555555555555556, \"#d8576b\"], [0.6666666666666666, \"#ed7953\"], [0.7777777777777778, \"#fb9f3a\"], [0.8888888888888888, \"#fdca26\"], [1.0, \"#f0f921\"]], \"type\": \"surface\"}], \"table\": [{\"cells\": {\"fill\": {\"color\": \"#EBF0F8\"}, \"line\": {\"color\": \"white\"}}, \"header\": {\"fill\": {\"color\": \"#C8D4E3\"}, \"line\": {\"color\": \"white\"}}, \"type\": \"table\"}]}, \"layout\": {\"annotationdefaults\": {\"arrowcolor\": \"#2a3f5f\", \"arrowhead\": 0, \"arrowwidth\": 1}, \"coloraxis\": {\"colorbar\": {\"outlinewidth\": 0, \"ticks\": \"\"}}, \"colorscale\": {\"diverging\": [[0, \"#8e0152\"], [0.1, \"#c51b7d\"], [0.2, \"#de77ae\"], [0.3, \"#f1b6da\"], [0.4, \"#fde0ef\"], [0.5, \"#f7f7f7\"], [0.6, \"#e6f5d0\"], [0.7, \"#b8e186\"], [0.8, \"#7fbc41\"], [0.9, \"#4d9221\"], [1, \"#276419\"]], \"sequential\": [[0.0, \"#0d0887\"], [0.1111111111111111, \"#46039f\"], [0.2222222222222222, \"#7201a8\"], [0.3333333333333333, \"#9c179e\"], [0.4444444444444444, \"#bd3786\"], [0.5555555555555556, \"#d8576b\"], [0.6666666666666666, \"#ed7953\"], [0.7777777777777778, \"#fb9f3a\"], [0.8888888888888888, \"#fdca26\"], [1.0, \"#f0f921\"]], \"sequentialminus\": [[0.0, \"#0d0887\"], [0.1111111111111111, \"#46039f\"], [0.2222222222222222, \"#7201a8\"], [0.3333333333333333, \"#9c179e\"], [0.4444444444444444, \"#bd3786\"], [0.5555555555555556, \"#d8576b\"], [0.6666666666666666, \"#ed7953\"], [0.7777777777777778, \"#fb9f3a\"], [0.8888888888888888, \"#fdca26\"], [1.0, \"#f0f921\"]]}, \"colorway\": [\"#636efa\", \"#EF553B\", \"#00cc96\", \"#ab63fa\", \"#FFA15A\", \"#19d3f3\", \"#FF6692\", \"#B6E880\", \"#FF97FF\", \"#FECB52\"], \"font\": {\"color\": \"#2a3f5f\"}, \"geo\": {\"bgcolor\": \"white\", \"lakecolor\": \"white\", \"landcolor\": \"#E5ECF6\", \"showlakes\": true, \"showland\": true, \"subunitcolor\": \"white\"}, \"hoverlabel\": {\"align\": \"left\"}, \"hovermode\": \"closest\", \"mapbox\": {\"style\": \"light\"}, \"paper_bgcolor\": \"white\", \"plot_bgcolor\": \"#E5ECF6\", \"polar\": {\"angularaxis\": {\"gridcolor\": \"white\", \"linecolor\": \"white\", \"ticks\": \"\"}, \"bgcolor\": \"#E5ECF6\", \"radialaxis\": {\"gridcolor\": \"white\", \"linecolor\": \"white\", \"ticks\": \"\"}}, \"scene\": {\"xaxis\": {\"backgroundcolor\": \"#E5ECF6\", \"gridcolor\": \"white\", \"gridwidth\": 2, \"linecolor\": \"white\", \"showbackground\": true, \"ticks\": \"\", \"zerolinecolor\": \"white\"}, \"yaxis\": {\"backgroundcolor\": \"#E5ECF6\", \"gridcolor\": \"white\", \"gridwidth\": 2, \"linecolor\": \"white\", \"showbackground\": true, \"ticks\": \"\", \"zerolinecolor\": \"white\"}, \"zaxis\": {\"backgroundcolor\": \"#E5ECF6\", \"gridcolor\": \"white\", \"gridwidth\": 2, \"linecolor\": \"white\", \"showbackground\": true, \"ticks\": \"\", \"zerolinecolor\": \"white\"}}, \"shapedefaults\": {\"line\": {\"color\": \"#2a3f5f\"}}, \"ternary\": {\"aaxis\": {\"gridcolor\": \"white\", \"linecolor\": \"white\", \"ticks\": \"\"}, \"baxis\": {\"gridcolor\": \"white\", \"linecolor\": \"white\", \"ticks\": \"\"}, \"bgcolor\": \"#E5ECF6\", \"caxis\": {\"gridcolor\": \"white\", \"linecolor\": \"white\", \"ticks\": \"\"}}, \"title\": {\"x\": 0.05}, \"xaxis\": {\"automargin\": true, \"gridcolor\": \"white\", \"linecolor\": \"white\", \"ticks\": \"\", \"title\": {\"standoff\": 15}, \"zerolinecolor\": \"white\", \"zerolinewidth\": 2}, \"yaxis\": {\"automargin\": true, \"gridcolor\": \"white\", \"linecolor\": \"white\", \"ticks\": \"\", \"title\": {\"standoff\": 15}, \"zerolinecolor\": \"white\", \"zerolinewidth\": 2}}}, \"width\": 1250, \"xaxis\": {\"anchor\": \"y\", \"domain\": [0.0, 1.0], \"fixedrange\": true, \"gridcolor\": \"LightGray\", \"gridwidth\": 1, \"range\": [0, 6], \"showgrid\": true, \"title\": {\"text\": \"CATEGORY\"}}, \"yaxis\": {\"anchor\": \"x\", \"domain\": [0.0, 1.0], \"fixedrange\": true, \"gridcolor\": \"LightGray\", \"gridwidth\": 1, \"range\": [-1, 19], \"showgrid\": true, \"tickson\": \"boundaries\", \"title\": {\"text\": \"MONTH\"}}},\n",
       "                        {\"responsive\": true}\n",
       "                    ).then(function(){\n",
       "                            \n",
       "var gd = document.getElementById('14ed14f2-9642-42f1-8880-be810aaf8531');\n",
       "var x = new MutationObserver(function (mutations, observer) {{\n",
       "        var display = window.getComputedStyle(gd).display;\n",
       "        if (!display || display === 'none') {{\n",
       "            console.log([gd, 'removed!']);\n",
       "            Plotly.purge(gd);\n",
       "            observer.disconnect();\n",
       "        }}\n",
       "}});\n",
       "\n",
       "// Listen for the removal of the full notebook cells\n",
       "var notebookContainer = gd.closest('#notebook-container');\n",
       "if (notebookContainer) {{\n",
       "    x.observe(notebookContainer, {childList: true});\n",
       "}}\n",
       "\n",
       "// Listen for the clearing of the current output cell\n",
       "var outputEl = gd.closest('.output');\n",
       "if (outputEl) {{\n",
       "    x.observe(outputEl, {childList: true});\n",
       "}}\n",
       "\n",
       "                        })\n",
       "                };\n",
       "                });\n",
       "            </script>\n",
       "        </div>"
      ]
     },
     "metadata": {},
     "output_type": "display_data"
    }
   ],
   "source": [
    "#Nicely formatted Scstter (Code from JP Hwang)\n",
    "\n",
    "def clean_chart_format(fig):\n",
    "    import plotly.graph_objects as go\n",
    "    fig.update_layout(\n",
    "        paper_bgcolor=\"white\",\n",
    "        plot_bgcolor=\"white\",\n",
    "        annotations=[\n",
    "            go.layout.Annotation(\n",
    "                x=0.9,\n",
    "                y=1.02,\n",
    "                showarrow=False,\n",
    "                text=\"Twitter: @_jphwang\",\n",
    "                xref=\"paper\",\n",
    "                yref=\"paper\",\n",
    "                textangle=0\n",
    "            ),\n",
    "        ],\n",
    "        font=dict(\n",
    "            family=\"Arial, Tahoma, Helvetica\",\n",
    "            size=10,\n",
    "            color=\"#404040\"\n",
    "        ),\n",
    "        margin=dict(\n",
    "            t=20\n",
    "        )\n",
    "    )\n",
    "    fig.update_traces(marker=dict(line=dict(width=1, color='Navy')),\n",
    "                      selector=dict(mode='markers'))\n",
    "    fig.update_coloraxes(\n",
    "        colorbar=dict(\n",
    "            thicknessmode=\"pixels\", thickness=15,\n",
    "            outlinewidth=1,\n",
    "            outlinecolor='#909090',\n",
    "            lenmode=\"pixels\", len=300,\n",
    "            yanchor=\"top\",\n",
    "            y=1,\n",
    "        ))\n",
    "    fig.update_yaxes(showgrid=True, gridwidth=1, tickson='boundaries', gridcolor='LightGray', fixedrange=True)\n",
    "    fig.update_xaxes(showgrid=True, gridwidth=1, gridcolor='LightGray', fixedrange=True)\n",
    "    return True\n",
    "\n",
    "\n",
    "def make_shot_dist_chart(input_df, color_continuous_scale=None, size_col='shots_count', col_col='pl_acc', range_color=None):\n",
    "\n",
    "    max_bubble_size = 5\n",
    "    if color_continuous_scale is None:\n",
    "        color_continuous_scale = px.colors.diverging.RdYlBu_r\n",
    "    if range_color is None:\n",
    "        range_color = [min(input_df[col_col]), max(input_df[col_col])]\n",
    "\n",
    "    fig = px.scatter(\n",
    "        input_df, x='MONTH', y='CAT', size=size_col,\n",
    "        color=col_col,\n",
    "        color_continuous_scale=color_continuous_scale,\n",
    "        range_color=range_color,\n",
    "        range_x=[0, 6],\n",
    "        range_y=[-1, len(input_df.CAT.unique())],\n",
    "        hover_name='CAT', hover_data=['MONTH', 'CAT', 'Total', ],\n",
    "        render_mode='svg'\n",
    "    )\n",
    "    fig.update_coloraxes(colorbar=dict(title='Spend $'))\n",
    "    fig.update_traces(marker=dict(sizeref=2. * 30 / (max_bubble_size ** 2)))\n",
    "    fig.update_yaxes(title=\"MONTH\")\n",
    "    fig.update_xaxes(title='CATEGORY')\n",
    "\n",
    "    return fig\n",
    "\n",
    "\n",
    "fig = make_shot_dist_chart(\n",
    "    df, col_col='Total', range_color=[0, 5000], size_col='Total')\n",
    "clean_chart_format(fig)\n",
    "fig.update_layout(height=500, width=1250)\n",
    "fig.show()"
   ]
  },
  {
   "cell_type": "code",
   "execution_count": null,
   "metadata": {},
   "outputs": [],
   "source": []
  }
 ],
 "metadata": {
  "kernelspec": {
   "display_name": "Python 3",
   "language": "python",
   "name": "python3"
  },
  "language_info": {
   "codemirror_mode": {
    "name": "ipython",
    "version": 3
   },
   "file_extension": ".py",
   "mimetype": "text/x-python",
   "name": "python",
   "nbconvert_exporter": "python",
   "pygments_lexer": "ipython3",
   "version": "3.7.5"
  }
 },
 "nbformat": 4,
 "nbformat_minor": 4
}
